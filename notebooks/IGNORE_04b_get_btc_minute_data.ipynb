{
 "cells": [
  {
   "cell_type": "code",
   "execution_count": 1,
   "id": "b3f9b2d5-fb34-4e9a-a8a2-2e353914e34d",
   "metadata": {},
   "outputs": [
    {
     "name": "stderr",
     "output_type": "stream",
     "text": [
      "c:\\users\\muril\\.virtualenvs\\crypto-prophet-ckjwbuny\\lib\\site-packages\\ipykernel_launcher.py:3: TqdmDeprecationWarning: This function will be removed in tqdm==5.0.0\n",
      "Please use `tqdm.notebook.*` instead of `tqdm._tqdm_notebook.*`\n",
      "  This is separate from the ipykernel package so we can avoid doing imports until\n"
     ]
    }
   ],
   "source": [
    "import pandas as pd\n",
    "from math import floor\n",
    "from tqdm._tqdm_notebook import tqdm_notebook as tqdm\n",
    "import requests\n",
    "from src.paths import LOCAL_RAW_DATA_PATH"
   ]
  },
  {
   "cell_type": "code",
   "execution_count": 2,
   "id": "17b65404-caa0-4e14-8408-1fff2afe77e9",
   "metadata": {},
   "outputs": [],
   "source": [
    "ts = pd.date_range(start='2019-06-24 00:48:00', end='2021-06-12 20:53:00', freq='min')"
   ]
  },
  {
   "cell_type": "code",
   "execution_count": 3,
   "id": "66001101-f787-4d8e-9e96-0013d55e286c",
   "metadata": {},
   "outputs": [],
   "source": [
    "def build_url(from_:str, to:str, since:str, until:str, period:str='M1', limit:int=1000):\n",
    "    endpoint = 'https://api.hitbtc.com/api/3/public/price/history'\n",
    "    url = f'{endpoint}?from={from_}&to={to}&period={period}&since={since}&until={until}&limit={limit}'\n",
    "    return url"
   ]
  },
  {
   "cell_type": "code",
   "execution_count": 4,
   "id": "7567f59a-0ac5-4ff9-b896-f54544b506bd",
   "metadata": {},
   "outputs": [
    {
     "data": {
      "application/vnd.jupyter.widget-view+json": {
       "model_id": "1c9b93ecfbfd47afb40d07d268c692d2",
       "version_major": 2,
       "version_minor": 0
      },
      "text/plain": [
       "  0%|          | 0/1037 [00:00<?, ?it/s]"
      ]
     },
     "metadata": {},
     "output_type": "display_data"
    },
    {
     "ename": "NameError",
     "evalue": "name 's' is not defined",
     "output_type": "error",
     "traceback": [
      "\u001b[1;31m---------------------------------------------------------------------------\u001b[0m",
      "\u001b[1;31mNameError\u001b[0m                                 Traceback (most recent call last)",
      "\u001b[1;32m<ipython-input-4-8c2e4a150c84>\u001b[0m in \u001b[0;36m<module>\u001b[1;34m\u001b[0m\n\u001b[0;32m      3\u001b[0m \u001b[1;32mfor\u001b[0m \u001b[0mi\u001b[0m \u001b[1;32min\u001b[0m \u001b[0mtqdm\u001b[0m\u001b[1;33m(\u001b[0m\u001b[0mrange\u001b[0m\u001b[1;33m(\u001b[0m\u001b[0mslices\u001b[0m\u001b[1;33m)\u001b[0m\u001b[1;33m)\u001b[0m\u001b[1;33m:\u001b[0m\u001b[1;33m\u001b[0m\u001b[1;33m\u001b[0m\u001b[0m\n\u001b[0;32m      4\u001b[0m     \u001b[0ms_idx\u001b[0m \u001b[1;33m=\u001b[0m \u001b[0mi\u001b[0m\u001b[1;33m*\u001b[0m\u001b[0mstep\u001b[0m\u001b[1;33m\u001b[0m\u001b[1;33m\u001b[0m\u001b[0m\n\u001b[1;32m----> 5\u001b[1;33m     \u001b[0mf_idx\u001b[0m \u001b[1;33m=\u001b[0m \u001b[0mmin\u001b[0m\u001b[1;33m(\u001b[0m\u001b[0ms\u001b[0m \u001b[1;33m+\u001b[0m \u001b[0mstep\u001b[0m\u001b[1;33m,\u001b[0m \u001b[0mts\u001b[0m\u001b[1;33m.\u001b[0m\u001b[0mshape\u001b[0m\u001b[1;33m[\u001b[0m\u001b[1;36m0\u001b[0m\u001b[1;33m]\u001b[0m\u001b[1;33m)\u001b[0m\u001b[1;33m\u001b[0m\u001b[1;33m\u001b[0m\u001b[0m\n\u001b[0m\u001b[0;32m      6\u001b[0m     \u001b[0mts_sliced\u001b[0m \u001b[1;33m=\u001b[0m \u001b[0mts\u001b[0m\u001b[1;33m[\u001b[0m\u001b[0ms_idx\u001b[0m\u001b[1;33m:\u001b[0m\u001b[0mf_idx\u001b[0m\u001b[1;33m]\u001b[0m\u001b[1;33m\u001b[0m\u001b[1;33m\u001b[0m\u001b[0m\n\u001b[0;32m      7\u001b[0m     \u001b[0msince\u001b[0m \u001b[1;33m=\u001b[0m \u001b[0mstr\u001b[0m\u001b[1;33m(\u001b[0m\u001b[0mts_sliced\u001b[0m\u001b[1;33m.\u001b[0m\u001b[0mmin\u001b[0m\u001b[1;33m(\u001b[0m\u001b[1;33m)\u001b[0m\u001b[1;33m)\u001b[0m\u001b[1;33m\u001b[0m\u001b[1;33m\u001b[0m\u001b[0m\n",
      "\u001b[1;31mNameError\u001b[0m: name 's' is not defined"
     ]
    }
   ],
   "source": [
    "step = 1000\n",
    "slices = round(ts.shape[0] / step)\n",
    "for i in tqdm(range(slices)):\n",
    "    s_idx = i*step\n",
    "    f_idx = min(s + step, ts.shape[0])\n",
    "    ts_sliced = ts[s_idx:f_idx]\n",
    "    since = str(ts_sliced.min())\n",
    "    until = str(ts_sliced.max())\n",
    "    url = build_url(from_='BTC', to='USDT', since=since, until=until)\n",
    "    if i == 1:\n",
    "        break\n",
    "    pass\n",
    "url"
   ]
  },
  {
   "cell_type": "code",
   "execution_count": 5,
   "id": "24353857-a87a-49c3-8c2c-5c94aa32aae0",
   "metadata": {},
   "outputs": [],
   "source": [
    "df = pd.concat([\n",
    "    pd.read_csv(\n",
    "        fr'C:\\Users\\muril\\Documents\\GitHub\\crypto-prophet\\data\\raw\\Bitstamp_BTCUSD_{x}_minute.csv',\n",
    "        skiprows=1)\n",
    "    for x in range(2019,2022)\n",
    "])"
   ]
  },
  {
   "cell_type": "code",
   "execution_count": 6,
   "id": "9ecc0605-75c5-4897-8490-3870f7bc7e39",
   "metadata": {},
   "outputs": [],
   "source": [
    "df['date'] = pd.to_datetime(df.date)"
   ]
  },
  {
   "cell_type": "code",
   "execution_count": 7,
   "id": "b6ba2ecb-1c08-4c3a-8f04-b68e971a9a14",
   "metadata": {},
   "outputs": [],
   "source": [
    "df = df.sort_values('date')"
   ]
  },
  {
   "cell_type": "code",
   "execution_count": 8,
   "id": "9cef279f-e97f-48a1-80e1-5f04130213e8",
   "metadata": {},
   "outputs": [],
   "source": [
    "mask = (df.date >= '2019-06-24 00:48:00') & (df.date < '2021-06-12 20:54:00')\n",
    "df = df[mask]"
   ]
  },
  {
   "cell_type": "code",
   "execution_count": 9,
   "id": "abd3a79f-289b-4b82-b3dd-e53b59171de2",
   "metadata": {},
   "outputs": [
    {
     "data": {
      "text/html": [
       "<div>\n",
       "<style scoped>\n",
       "    .dataframe tbody tr th:only-of-type {\n",
       "        vertical-align: middle;\n",
       "    }\n",
       "\n",
       "    .dataframe tbody tr th {\n",
       "        vertical-align: top;\n",
       "    }\n",
       "\n",
       "    .dataframe thead th {\n",
       "        text-align: right;\n",
       "    }\n",
       "</style>\n",
       "<table border=\"1\" class=\"dataframe\">\n",
       "  <thead>\n",
       "    <tr style=\"text-align: right;\">\n",
       "      <th></th>\n",
       "      <th>unix</th>\n",
       "      <th>date</th>\n",
       "      <th>symbol</th>\n",
       "      <th>open</th>\n",
       "      <th>high</th>\n",
       "      <th>low</th>\n",
       "      <th>close</th>\n",
       "      <th>volume</th>\n",
       "      <th>Volume USD</th>\n",
       "    </tr>\n",
       "  </thead>\n",
       "  <tbody>\n",
       "    <tr>\n",
       "      <th>274991</th>\n",
       "      <td>1561337280</td>\n",
       "      <td>2019-06-24 00:48:00</td>\n",
       "      <td>BTC/USD</td>\n",
       "      <td>10666.67</td>\n",
       "      <td>10677.33</td>\n",
       "      <td>10665.46</td>\n",
       "      <td>10671.75</td>\n",
       "      <td>5.676160</td>\n",
       "      <td>60574.560800</td>\n",
       "    </tr>\n",
       "    <tr>\n",
       "      <th>274990</th>\n",
       "      <td>1561337340</td>\n",
       "      <td>2019-06-24 00:49:00</td>\n",
       "      <td>BTC/USD</td>\n",
       "      <td>10680.00</td>\n",
       "      <td>10682.67</td>\n",
       "      <td>10669.20</td>\n",
       "      <td>10671.39</td>\n",
       "      <td>0.231995</td>\n",
       "      <td>2475.705175</td>\n",
       "    </tr>\n",
       "    <tr>\n",
       "      <th>274989</th>\n",
       "      <td>1561337400</td>\n",
       "      <td>2019-06-24 00:50:00</td>\n",
       "      <td>BTC/USD</td>\n",
       "      <td>10672.53</td>\n",
       "      <td>10685.00</td>\n",
       "      <td>10672.53</td>\n",
       "      <td>10682.89</td>\n",
       "      <td>9.755684</td>\n",
       "      <td>104218.895308</td>\n",
       "    </tr>\n",
       "    <tr>\n",
       "      <th>274988</th>\n",
       "      <td>1561337460</td>\n",
       "      <td>2019-06-24 00:51:00</td>\n",
       "      <td>BTC/USD</td>\n",
       "      <td>10683.58</td>\n",
       "      <td>10688.26</td>\n",
       "      <td>10680.35</td>\n",
       "      <td>10687.01</td>\n",
       "      <td>6.301186</td>\n",
       "      <td>67340.835977</td>\n",
       "    </tr>\n",
       "    <tr>\n",
       "      <th>274987</th>\n",
       "      <td>1561337520</td>\n",
       "      <td>2019-06-24 00:52:00</td>\n",
       "      <td>BTC/USD</td>\n",
       "      <td>10688.26</td>\n",
       "      <td>10699.73</td>\n",
       "      <td>10687.01</td>\n",
       "      <td>10697.00</td>\n",
       "      <td>7.774960</td>\n",
       "      <td>83168.749259</td>\n",
       "    </tr>\n",
       "    <tr>\n",
       "      <th>...</th>\n",
       "      <td>...</td>\n",
       "      <td>...</td>\n",
       "      <td>...</td>\n",
       "      <td>...</td>\n",
       "      <td>...</td>\n",
       "      <td>...</td>\n",
       "      <td>...</td>\n",
       "      <td>...</td>\n",
       "      <td>...</td>\n",
       "    </tr>\n",
       "    <tr>\n",
       "      <th>177712</th>\n",
       "      <td>1623530940</td>\n",
       "      <td>2021-06-12 20:49:00</td>\n",
       "      <td>BTC/USD</td>\n",
       "      <td>36080.44</td>\n",
       "      <td>36102.56</td>\n",
       "      <td>36065.55</td>\n",
       "      <td>36072.88</td>\n",
       "      <td>0.453399</td>\n",
       "      <td>16355.417098</td>\n",
       "    </tr>\n",
       "    <tr>\n",
       "      <th>177711</th>\n",
       "      <td>1623531000</td>\n",
       "      <td>2021-06-12 20:50:00</td>\n",
       "      <td>BTC/USD</td>\n",
       "      <td>36082.40</td>\n",
       "      <td>36132.26</td>\n",
       "      <td>36077.87</td>\n",
       "      <td>36109.25</td>\n",
       "      <td>4.280521</td>\n",
       "      <td>154566.420613</td>\n",
       "    </tr>\n",
       "    <tr>\n",
       "      <th>177710</th>\n",
       "      <td>1623531060</td>\n",
       "      <td>2021-06-12 20:51:00</td>\n",
       "      <td>BTC/USD</td>\n",
       "      <td>36128.38</td>\n",
       "      <td>36141.67</td>\n",
       "      <td>36103.70</td>\n",
       "      <td>36123.15</td>\n",
       "      <td>0.207626</td>\n",
       "      <td>7500.100807</td>\n",
       "    </tr>\n",
       "    <tr>\n",
       "      <th>177709</th>\n",
       "      <td>1623531120</td>\n",
       "      <td>2021-06-12 20:52:00</td>\n",
       "      <td>BTC/USD</td>\n",
       "      <td>36123.15</td>\n",
       "      <td>36123.15</td>\n",
       "      <td>36070.88</td>\n",
       "      <td>36073.20</td>\n",
       "      <td>0.073485</td>\n",
       "      <td>2650.854613</td>\n",
       "    </tr>\n",
       "    <tr>\n",
       "      <th>177708</th>\n",
       "      <td>1623531180</td>\n",
       "      <td>2021-06-12 20:53:00</td>\n",
       "      <td>BTC/USD</td>\n",
       "      <td>36085.14</td>\n",
       "      <td>36100.98</td>\n",
       "      <td>36073.20</td>\n",
       "      <td>36085.14</td>\n",
       "      <td>0.094320</td>\n",
       "      <td>3403.558344</td>\n",
       "    </tr>\n",
       "  </tbody>\n",
       "</table>\n",
       "<p>997247 rows × 9 columns</p>\n",
       "</div>"
      ],
      "text/plain": [
       "              unix                date   symbol      open      high       low  \\\n",
       "274991  1561337280 2019-06-24 00:48:00  BTC/USD  10666.67  10677.33  10665.46   \n",
       "274990  1561337340 2019-06-24 00:49:00  BTC/USD  10680.00  10682.67  10669.20   \n",
       "274989  1561337400 2019-06-24 00:50:00  BTC/USD  10672.53  10685.00  10672.53   \n",
       "274988  1561337460 2019-06-24 00:51:00  BTC/USD  10683.58  10688.26  10680.35   \n",
       "274987  1561337520 2019-06-24 00:52:00  BTC/USD  10688.26  10699.73  10687.01   \n",
       "...            ...                 ...      ...       ...       ...       ...   \n",
       "177712  1623530940 2021-06-12 20:49:00  BTC/USD  36080.44  36102.56  36065.55   \n",
       "177711  1623531000 2021-06-12 20:50:00  BTC/USD  36082.40  36132.26  36077.87   \n",
       "177710  1623531060 2021-06-12 20:51:00  BTC/USD  36128.38  36141.67  36103.70   \n",
       "177709  1623531120 2021-06-12 20:52:00  BTC/USD  36123.15  36123.15  36070.88   \n",
       "177708  1623531180 2021-06-12 20:53:00  BTC/USD  36085.14  36100.98  36073.20   \n",
       "\n",
       "           close    volume     Volume USD  \n",
       "274991  10671.75  5.676160   60574.560800  \n",
       "274990  10671.39  0.231995    2475.705175  \n",
       "274989  10682.89  9.755684  104218.895308  \n",
       "274988  10687.01  6.301186   67340.835977  \n",
       "274987  10697.00  7.774960   83168.749259  \n",
       "...          ...       ...            ...  \n",
       "177712  36072.88  0.453399   16355.417098  \n",
       "177711  36109.25  4.280521  154566.420613  \n",
       "177710  36123.15  0.207626    7500.100807  \n",
       "177709  36073.20  0.073485    2650.854613  \n",
       "177708  36085.14  0.094320    3403.558344  \n",
       "\n",
       "[997247 rows x 9 columns]"
      ]
     },
     "execution_count": 9,
     "metadata": {},
     "output_type": "execute_result"
    }
   ],
   "source": [
    "df = df.rename({'Volume BTC': 'volume'}, axis=1)\n",
    "df"
   ]
  },
  {
   "cell_type": "code",
   "execution_count": 13,
   "id": "e557451b-7175-43c7-ab8e-4fe24deeb62b",
   "metadata": {},
   "outputs": [],
   "source": [
    "from src.helpers import get_valorization\n",
    "for p in [+24, +12, +6, +2, +1, -1, -2, -6, -12, -24, -24*2, -24*7, -24*15, -25*30]:\n",
    "    val = get_valorization(df, periods=p)\n",
    "    df[val.name] = val"
   ]
  },
  {
   "cell_type": "code",
   "execution_count": 14,
   "id": "d0f93aa6-5483-45bb-b2e0-936aadb302ad",
   "metadata": {},
   "outputs": [
    {
     "data": {
      "text/plain": [
       "Index(['unix', 'date', 'symbol', 'open', 'high', 'low', 'close', 'volume',\n",
       "       'Volume USD', 'close_change_previous12periods_perc',\n",
       "       'close_change_previous6periods_perc',\n",
       "       'close_change_previous2periods_perc',\n",
       "       'close_change_previous1periods_perc', 'close_change_1periods_perc',\n",
       "       'close_change_2periods_perc', 'close_change_6periods_perc',\n",
       "       'close_change_12periods_perc', 'close_change_24periods_perc',\n",
       "       'close_change_48periods_perc', 'close_change_168periods_perc',\n",
       "       'close_change_360periods_perc', 'close_change_750periods_perc',\n",
       "       'close_change_previous24periods_perc'],\n",
       "      dtype='object')"
      ]
     },
     "execution_count": 14,
     "metadata": {},
     "output_type": "execute_result"
    }
   ],
   "source": [
    "df.columns"
   ]
  },
  {
   "cell_type": "code",
   "execution_count": 15,
   "id": "be67a2d1-4aee-4945-b415-6b3c620dfe6c",
   "metadata": {},
   "outputs": [],
   "source": [
    "import numpy as np\n",
    "stats_cols = []\n",
    "for ma in (120, 720):\n",
    "    column_name = f\"ma_{ma}_periods\"\n",
    "    stats_cols.append(column_name)\n",
    "\n",
    "    df[column_name] = df['close'].rolling(ma).mean()\n",
    "    \n",
    "\n",
    "df['ma_delta'] = df.apply(\n",
    "        lambda row: row[stats_cols[0]] - row[stats_cols[1]]\n",
    "        if not np.isnan(row[stats_cols[1]])\n",
    "        else np.nan, axis=1)\n",
    "\n",
    "df['ma_delta_norm'] = df.apply(\n",
    "        lambda row: row['ma_delta'] / row['close'], axis=1)"
   ]
  },
  {
   "cell_type": "code",
   "execution_count": null,
   "id": "d9d0b713-bccc-42f0-8d13-60aa2b1e5598",
   "metadata": {},
   "outputs": [],
   "source": [
    "x =    pd.read_csv(\n",
    "        fr'C:\\Users\\muril\\Documents\\GitHub\\crypto-prophet\\data\\raw\\btc-usd.csv',\n",
    "        )\n"
   ]
  },
  {
   "cell_type": "code",
   "execution_count": null,
   "id": "3a5cca8e-ac49-4de2-8551-85f4886fb59f",
   "metadata": {},
   "outputs": [],
   "source": [
    "df[x.columns].to_csv(LOCAL_RAW_DATA_PATH / 'btc-usd-minute.csv')"
   ]
  },
  {
   "cell_type": "code",
   "execution_count": null,
   "id": "3c1d4288-35e3-4f45-af2d-52ed45628ace",
   "metadata": {},
   "outputs": [],
   "source": []
  }
 ],
 "metadata": {
  "kernelspec": {
   "display_name": "crypto",
   "language": "python",
   "name": "crypto"
  },
  "language_info": {
   "codemirror_mode": {
    "name": "ipython",
    "version": 3
   },
   "file_extension": ".py",
   "mimetype": "text/x-python",
   "name": "python",
   "nbconvert_exporter": "python",
   "pygments_lexer": "ipython3",
   "version": "3.7.6"
  }
 },
 "nbformat": 4,
 "nbformat_minor": 5
}
