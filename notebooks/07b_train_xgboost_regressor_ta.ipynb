{
 "cells": [
  {
   "cell_type": "markdown",
   "id": "0c112d05-02ea-4a03-a9a4-c07c24207bf6",
   "metadata": {},
   "source": [
    "# CryptoProphet\n",
    "## Notebook's Goal\n",
    "> Train and assess results of XGBoost Regression model"
   ]
  },
  {
   "cell_type": "code",
   "execution_count": 1,
   "id": "c3f4bfef-ba9d-4bf7-8064-25de54cce75e",
   "metadata": {},
   "outputs": [
    {
     "name": "stderr",
     "output_type": "stream",
     "text": [
      "c:\\users\\muril\\.virtualenvs\\crypto-prophet-ckjwbuny\\lib\\site-packages\\ipykernel_launcher.py:9: TqdmDeprecationWarning: This function will be removed in tqdm==5.0.0\n",
      "Please use `tqdm.notebook.*` instead of `tqdm._tqdm_notebook.*`\n",
      "  if __name__ == '__main__':\n"
     ]
    }
   ],
   "source": [
    "# imports custom packages\n",
    "from src.paths import LOCAL_RAW_DATA_PATH, LOCAL_PROCESSED_DATA_PATH, LOCAL_MODELS_PATH\n",
    "from src.visualization.stats import plot_stats_regressor\n",
    "\n",
    "# imports official packages\n",
    "from sklearn.model_selection import GridSearchCV, cross_val_score, KFold, train_test_split\n",
    "from sklearn.metrics import mean_squared_error, mean_absolute_error\n",
    "from sklearn.preprocessing import LabelEncoder\n",
    "from tqdm._tqdm_notebook import tqdm_notebook\n",
    "from collections import OrderedDict\n",
    "from xgboost import plot_importance\n",
    "import matplotlib.pyplot as plt \n",
    "from scipy.stats import skew\n",
    "import missingno as msno\n",
    "import pandas as pd\n",
    "import xgboost\n",
    "import pickle\n",
    "\n",
    "tqdm_notebook.pandas()\n",
    "\n",
    "seed = 42\n",
    "\n",
    "# imports data\n",
    "df_path = LOCAL_PROCESSED_DATA_PATH / 'pretrain_dataset_20211013_ta.pkl'\n",
    "df = pd.read_pickle(df_path)\n",
    "tgt_vars = [c for c in df.columns if '_change_' in str(c)]\n",
    "\n",
    "# drops unused columns\n",
    "drop_cols = ['created_at', 'created_at_trunc_h', 'id_str',\n",
    "             'full_text', 'user_screen_name',\n",
    "             'ma_120_periods', 'ma_720_periods'] + tgt_vars\n",
    "X_cols = [c for c in df.columns if c not in drop_cols]"
   ]
  },
  {
   "cell_type": "code",
   "execution_count": 5,
   "id": "02f5eddf-a1f1-49d6-a15f-3d5d0f4dd998",
   "metadata": {},
   "outputs": [
    {
     "data": {
      "text/plain": [
       "Index([                         'created_at',\n",
       "                        'created_at_trunc_h',\n",
       "                                    'id_str',\n",
       "                                 'full_text',\n",
       "                             'retweet_count',\n",
       "                            'favorite_count',\n",
       "                          'user_screen_name',\n",
       "                                 'user_feat',\n",
       "                                       'BTC',\n",
       "                                      'DOGE',\n",
       "                                       'ETH',\n",
       "                                       'LTC',\n",
       "                                      'USDT',\n",
       "                                       'ADA',\n",
       "                                    'volume',\n",
       "                                     'close',\n",
       "                            'ma_120_periods',\n",
       "                            'ma_720_periods',\n",
       "                'close_change_1periods_perc',\n",
       "                'close_change_2periods_perc',\n",
       "                'close_change_6periods_perc',\n",
       "               'close_change_12periods_perc',\n",
       "               'close_change_24periods_perc',\n",
       "               'close_change_48periods_perc',\n",
       "              'close_change_168periods_perc',\n",
       "              'close_change_360periods_perc',\n",
       "              'close_change_750periods_perc',\n",
       "       'close_change_previous24periods_perc',\n",
       "       'close_change_previous12periods_perc',\n",
       "        'close_change_previous6periods_perc',\n",
       "        'close_change_previous2periods_perc',\n",
       "        'close_change_previous1periods_perc',\n",
       "                              'day_of_month',\n",
       "                                        'up',\n",
       "                                      'down',\n",
       "                                       'RSI',\n",
       "                                       'MSA',\n",
       "                                       'EMA',\n",
       "                                           0,\n",
       "                                           1],\n",
       "      dtype='object')"
      ]
     },
     "execution_count": 5,
     "metadata": {},
     "output_type": "execute_result"
    }
   ],
   "source": [
    "# prints top 30 features (without text embeddings)\n",
    "df.columns[:40]"
   ]
  },
  {
   "cell_type": "code",
   "execution_count": 6,
   "id": "401b1559-2adc-4f08-87ad-7eca953363ce",
   "metadata": {},
   "outputs": [
    {
     "data": {
      "text/html": [
       "<div>\n",
       "<style scoped>\n",
       "    .dataframe tbody tr th:only-of-type {\n",
       "        vertical-align: middle;\n",
       "    }\n",
       "\n",
       "    .dataframe tbody tr th {\n",
       "        vertical-align: top;\n",
       "    }\n",
       "\n",
       "    .dataframe thead th {\n",
       "        text-align: right;\n",
       "    }\n",
       "</style>\n",
       "<table border=\"1\" class=\"dataframe\">\n",
       "  <thead>\n",
       "    <tr style=\"text-align: right;\">\n",
       "      <th></th>\n",
       "      <th>created_at</th>\n",
       "      <th>created_at_trunc_h</th>\n",
       "      <th>id_str</th>\n",
       "      <th>full_text</th>\n",
       "      <th>retweet_count</th>\n",
       "      <th>favorite_count</th>\n",
       "      <th>user_screen_name</th>\n",
       "      <th>user_feat</th>\n",
       "      <th>BTC</th>\n",
       "      <th>DOGE</th>\n",
       "      <th>...</th>\n",
       "      <th>758</th>\n",
       "      <th>759</th>\n",
       "      <th>760</th>\n",
       "      <th>761</th>\n",
       "      <th>762</th>\n",
       "      <th>763</th>\n",
       "      <th>764</th>\n",
       "      <th>765</th>\n",
       "      <th>766</th>\n",
       "      <th>767</th>\n",
       "    </tr>\n",
       "  </thead>\n",
       "  <tbody>\n",
       "    <tr>\n",
       "      <th>67894</th>\n",
       "      <td>2019-06-24 00:48:17</td>\n",
       "      <td>2019-06-24 00:00:00</td>\n",
       "      <td>1142957583340380160</td>\n",
       "      <td>@roysebag @mikejcasey https://t.co/HAdE9hivHb</td>\n",
       "      <td>1.0</td>\n",
       "      <td>5.0</td>\n",
       "      <td>BarrySilbert</td>\n",
       "      <td>3</td>\n",
       "      <td>0</td>\n",
       "      <td>0</td>\n",
       "      <td>...</td>\n",
       "      <td>0.211892</td>\n",
       "      <td>0.090323</td>\n",
       "      <td>-0.033169</td>\n",
       "      <td>-0.074099</td>\n",
       "      <td>0.049208</td>\n",
       "      <td>0.008833</td>\n",
       "      <td>0.092621</td>\n",
       "      <td>-0.013973</td>\n",
       "      <td>-0.091649</td>\n",
       "      <td>-0.009876</td>\n",
       "    </tr>\n",
       "    <tr>\n",
       "      <th>109535</th>\n",
       "      <td>2019-06-24 01:45:59</td>\n",
       "      <td>2019-06-24 01:00:00</td>\n",
       "      <td>1142972105182601216</td>\n",
       "      <td>@SoroushG_ @hasufl Perhaps expanding to non-ec...</td>\n",
       "      <td>0.0</td>\n",
       "      <td>4.0</td>\n",
       "      <td>FEhrsam</td>\n",
       "      <td>14</td>\n",
       "      <td>0</td>\n",
       "      <td>0</td>\n",
       "      <td>...</td>\n",
       "      <td>0.159535</td>\n",
       "      <td>0.046459</td>\n",
       "      <td>-0.129009</td>\n",
       "      <td>-0.051730</td>\n",
       "      <td>0.037167</td>\n",
       "      <td>0.012580</td>\n",
       "      <td>0.112651</td>\n",
       "      <td>-0.005474</td>\n",
       "      <td>0.065391</td>\n",
       "      <td>0.004129</td>\n",
       "    </tr>\n",
       "    <tr>\n",
       "      <th>89071</th>\n",
       "      <td>2019-06-24 03:39:16</td>\n",
       "      <td>2019-06-24 03:00:00</td>\n",
       "      <td>1143000611329388544</td>\n",
       "      <td>@NPO_SPS_2013 @Emurgo_Japan 投稿ありがとうございました！是非、 ...</td>\n",
       "      <td>1.0</td>\n",
       "      <td>30.0</td>\n",
       "      <td>Cardano</td>\n",
       "      <td>5</td>\n",
       "      <td>0</td>\n",
       "      <td>0</td>\n",
       "      <td>...</td>\n",
       "      <td>-0.211426</td>\n",
       "      <td>-0.008754</td>\n",
       "      <td>0.002088</td>\n",
       "      <td>-0.107030</td>\n",
       "      <td>0.079004</td>\n",
       "      <td>0.251885</td>\n",
       "      <td>0.013369</td>\n",
       "      <td>-0.043283</td>\n",
       "      <td>0.211008</td>\n",
       "      <td>0.042472</td>\n",
       "    </tr>\n",
       "    <tr>\n",
       "      <th>89070</th>\n",
       "      <td>2019-06-24 04:04:05</td>\n",
       "      <td>2019-06-24 04:00:00</td>\n",
       "      <td>1143006856761266176</td>\n",
       "      <td>On June 22, #CardanoFoundation attended the fi...</td>\n",
       "      <td>50.0</td>\n",
       "      <td>235.0</td>\n",
       "      <td>Cardano</td>\n",
       "      <td>5</td>\n",
       "      <td>0</td>\n",
       "      <td>0</td>\n",
       "      <td>...</td>\n",
       "      <td>-0.063294</td>\n",
       "      <td>0.127559</td>\n",
       "      <td>0.099624</td>\n",
       "      <td>-0.001857</td>\n",
       "      <td>-0.068960</td>\n",
       "      <td>0.112617</td>\n",
       "      <td>-0.000934</td>\n",
       "      <td>0.009449</td>\n",
       "      <td>0.031449</td>\n",
       "      <td>0.055679</td>\n",
       "    </tr>\n",
       "    <tr>\n",
       "      <th>89069</th>\n",
       "      <td>2019-06-24 04:23:13</td>\n",
       "      <td>2019-06-24 04:00:00</td>\n",
       "      <td>1143011672560427008</td>\n",
       "      <td>ご注意ください：ダイダロスのサポートをすると言ってデータを抜き取り#ADA を盗まれるという...</td>\n",
       "      <td>42.0</td>\n",
       "      <td>123.0</td>\n",
       "      <td>Cardano</td>\n",
       "      <td>5</td>\n",
       "      <td>0</td>\n",
       "      <td>0</td>\n",
       "      <td>...</td>\n",
       "      <td>-0.196956</td>\n",
       "      <td>-0.077403</td>\n",
       "      <td>0.033810</td>\n",
       "      <td>-0.181430</td>\n",
       "      <td>0.158272</td>\n",
       "      <td>0.118863</td>\n",
       "      <td>-0.029405</td>\n",
       "      <td>-0.137520</td>\n",
       "      <td>0.256907</td>\n",
       "      <td>-0.011696</td>\n",
       "    </tr>\n",
       "  </tbody>\n",
       "</table>\n",
       "<p>5 rows × 806 columns</p>\n",
       "</div>"
      ],
      "text/plain": [
       "                created_at  created_at_trunc_h               id_str  \\\n",
       "67894  2019-06-24 00:48:17 2019-06-24 00:00:00  1142957583340380160   \n",
       "109535 2019-06-24 01:45:59 2019-06-24 01:00:00  1142972105182601216   \n",
       "89071  2019-06-24 03:39:16 2019-06-24 03:00:00  1143000611329388544   \n",
       "89070  2019-06-24 04:04:05 2019-06-24 04:00:00  1143006856761266176   \n",
       "89069  2019-06-24 04:23:13 2019-06-24 04:00:00  1143011672560427008   \n",
       "\n",
       "                                                full_text  retweet_count  \\\n",
       "67894       @roysebag @mikejcasey https://t.co/HAdE9hivHb            1.0   \n",
       "109535  @SoroushG_ @hasufl Perhaps expanding to non-ec...            0.0   \n",
       "89071   @NPO_SPS_2013 @Emurgo_Japan 投稿ありがとうございました！是非、 ...            1.0   \n",
       "89070   On June 22, #CardanoFoundation attended the fi...           50.0   \n",
       "89069   ご注意ください：ダイダロスのサポートをすると言ってデータを抜き取り#ADA を盗まれるという...           42.0   \n",
       "\n",
       "        favorite_count user_screen_name  user_feat  BTC  DOGE  ...       758  \\\n",
       "67894              5.0     BarrySilbert          3    0     0  ...  0.211892   \n",
       "109535             4.0          FEhrsam         14    0     0  ...  0.159535   \n",
       "89071             30.0          Cardano          5    0     0  ... -0.211426   \n",
       "89070            235.0          Cardano          5    0     0  ... -0.063294   \n",
       "89069            123.0          Cardano          5    0     0  ... -0.196956   \n",
       "\n",
       "             759       760       761       762       763       764       765  \\\n",
       "67894   0.090323 -0.033169 -0.074099  0.049208  0.008833  0.092621 -0.013973   \n",
       "109535  0.046459 -0.129009 -0.051730  0.037167  0.012580  0.112651 -0.005474   \n",
       "89071  -0.008754  0.002088 -0.107030  0.079004  0.251885  0.013369 -0.043283   \n",
       "89070   0.127559  0.099624 -0.001857 -0.068960  0.112617 -0.000934  0.009449   \n",
       "89069  -0.077403  0.033810 -0.181430  0.158272  0.118863 -0.029405 -0.137520   \n",
       "\n",
       "             766       767  \n",
       "67894  -0.091649 -0.009876  \n",
       "109535  0.065391  0.004129  \n",
       "89071   0.211008  0.042472  \n",
       "89070   0.031449  0.055679  \n",
       "89069   0.256907 -0.011696  \n",
       "\n",
       "[5 rows x 806 columns]"
      ]
     },
     "execution_count": 6,
     "metadata": {},
     "output_type": "execute_result"
    }
   ],
   "source": [
    "# shows top values\n",
    "df.head()"
   ]
  },
  {
   "cell_type": "code",
   "execution_count": 7,
   "id": "45abf28d-3f70-48e8-a5cd-4ceda01b919e",
   "metadata": {},
   "outputs": [],
   "source": [
    "# defines X and y variables\n",
    "X = df[X_cols]\n",
    "y = df['close_change_2periods_perc']"
   ]
  },
  {
   "cell_type": "code",
   "execution_count": 8,
   "id": "12d33130-db92-47b0-b8e1-597ac9405dcc",
   "metadata": {},
   "outputs": [
    {
     "data": {
      "text/plain": [
       "(80, 4)"
      ]
     },
     "execution_count": 8,
     "metadata": {},
     "output_type": "execute_result"
    }
   ],
   "source": [
    "# sanity check on null values\n",
    "X.isna().sum().sum(), y.isna().sum()"
   ]
  },
  {
   "cell_type": "code",
   "execution_count": 9,
   "id": "b2997dc3-bd21-4d40-b629-302fc3b4d689",
   "metadata": {},
   "outputs": [],
   "source": [
    "# splits dataset into train and test\n",
    "X_train, X_test, y_train, y_test = train_test_split(X, y, test_size=0.20, random_state=seed)"
   ]
  },
  {
   "cell_type": "code",
   "execution_count": 10,
   "id": "08d44a7c-c366-40a9-9fba-c459341ec020",
   "metadata": {},
   "outputs": [
    {
     "name": "stdout",
     "output_type": "stream",
     "text": [
      "(73656, 785) (18415, 785)\n",
      "(73656,) (18415,)\n"
     ]
    },
    {
     "data": {
      "text/plain": [
       "True"
      ]
     },
     "execution_count": 10,
     "metadata": {},
     "output_type": "execute_result"
    }
   ],
   "source": [
    "# sanity check on resulting shapes\n",
    "print(X_train.shape,  X_test.shape)\n",
    "print(y_train.shape,  y_test.shape)\n",
    "df.shape[0] == X_train.shape[0] + X_test.shape[0] "
   ]
  },
  {
   "cell_type": "code",
   "execution_count": null,
   "id": "87634de9-16b9-4a38-8707-de5936763363",
   "metadata": {},
   "outputs": [],
   "source": [
    "# inits and fits model\n",
    "xgboost.set_config(**{'use_rmm': False, 'verbosity': 1})\n",
    "\n",
    "model = xgboost.XGBRegressor(**{\n",
    "    'colsample_bytree': 0.8,\n",
    "    'gamma': 0,\n",
    "    'learning_rate': 0.01,\n",
    "    'max_depth': 5,\n",
    "    'min_child_weight': 1.5,\n",
    "    'n_estimators': 1200,\n",
    "    'reg_alpha': 0.75,\n",
    "    'reg_lambda': 0.45,\n",
    "    'seed': seed,\n",
    "    'subsample': 0.9\n",
    "}) \n",
    "\n",
    "model.fit(X_train,y_train)"
   ]
  },
  {
   "cell_type": "code",
   "execution_count": null,
   "id": "db81972b",
   "metadata": {},
   "outputs": [],
   "source": [
    "# exports model\n",
    "with open(LOCAL_MODELS_PATH / 'xgboost_20211013_ta.pkl', mode='wb') as fp:\n",
    "    pickle.dump(model, fp)"
   ]
  },
  {
   "cell_type": "code",
   "execution_count": null,
   "id": "113c0ef5-6dc9-46fb-bac4-c13923deab61",
   "metadata": {},
   "outputs": [],
   "source": [
    "# plots results\n",
    "plot_stats_regressor(model, X_train, y_train, test_name='training')\n",
    "plot_stats_regressor(model, X_test, y_test, test_name='testing')"
   ]
  },
  {
   "cell_type": "code",
   "execution_count": null,
   "id": "180cd0c5-7431-46e7-8c5f-b93749090c0b",
   "metadata": {},
   "outputs": [],
   "source": [
    "# plots results broken down per influencer\n",
    "for u in X_train.user_feat.unique():\n",
    "    mask = X_train.user_feat == u\n",
    "    mask_test = X_test.user_feat == u\n",
    "    user_screen_name = user_le.inverse_transform([u])[0]\n",
    "    print(f\"{user_screen_name} - {mask.sum() + mask_test.sum()} tweets\")\n",
    "\n",
    "    try:\n",
    "        plot_stats_regressor(model, X_train[mask], y_train[mask], test_name=f\"{user_screen_name} - full data\")\n",
    "        plot_stats_regressor(model, X_test[mask_test], y_test[mask_test], test_name=f\"{user_screen_name} - train data\")\n",
    "    except Exception as e:\n",
    "        print(f'error {e}')\n",
    "        \n",
    "    print(20*'=')"
   ]
  },
  {
   "cell_type": "markdown",
   "id": "9ca1cf7b-51dd-4971-91fa-1b9ea4ffff67",
   "metadata": {},
   "source": [
    "# Conclusion\n",
    "> Model overall contains too much noise, but some influencer show promissing results\n",
    ">\n",
    "> (eg. PeterMcCormack with R² score of   ~0.37)."
   ]
  }
 ],
 "metadata": {
  "kernelspec": {
   "display_name": "crypto",
   "language": "python",
   "name": "crypto"
  },
  "language_info": {
   "codemirror_mode": {
    "name": "ipython",
    "version": 3
   },
   "file_extension": ".py",
   "mimetype": "text/x-python",
   "name": "python",
   "nbconvert_exporter": "python",
   "pygments_lexer": "ipython3",
   "version": "3.7.6"
  }
 },
 "nbformat": 4,
 "nbformat_minor": 5
}
