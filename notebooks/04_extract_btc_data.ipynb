{
 "cells": [
  {
   "cell_type": "code",
   "execution_count": 157,
   "id": "92893491-3334-459c-9497-774e575aa5f4",
   "metadata": {},
   "outputs": [
    {
     "name": "stderr",
     "output_type": "stream",
     "text": [
      "[autoreload of src.helpers failed: Traceback (most recent call last):\n",
      "  File \"c:\\users\\muril\\.virtualenvs\\crypto-prophet-ckjwbuny\\lib\\site-packages\\IPython\\extensions\\autoreload.py\", line 245, in check\n",
      "    superreload(m, reload, self.old_objects)\n",
      "  File \"c:\\users\\muril\\.virtualenvs\\crypto-prophet-ckjwbuny\\lib\\site-packages\\IPython\\extensions\\autoreload.py\", line 394, in superreload\n",
      "    module = reload(module)\n",
      "  File \"c:\\users\\muril\\miniconda3\\lib\\imp.py\", line 314, in reload\n",
      "    return importlib.reload(module)\n",
      "  File \"c:\\users\\muril\\miniconda3\\lib\\importlib\\__init__.py\", line 169, in reload\n",
      "    _bootstrap._exec(spec, module)\n",
      "  File \"<frozen importlib._bootstrap>\", line 630, in _exec\n",
      "  File \"<frozen importlib._bootstrap_external>\", line 724, in exec_module\n",
      "  File \"<frozen importlib._bootstrap_external>\", line 860, in get_code\n",
      "  File \"<frozen importlib._bootstrap_external>\", line 791, in source_to_code\n",
      "  File \"<frozen importlib._bootstrap>\", line 219, in _call_with_frames_removed\n",
      "  File \"c:\\users\\muril\\documents\\github\\crypto-prophet\\src\\helpers.py\", line 51\n",
      "    return change.rename(f'{col}_change_{abs(periods)}periods{(\"_perc\" if perc else \"\")}')ó´\n",
      "                                                                                           ^\n",
      "SyntaxError: invalid character in identifier\n",
      "]\n"
     ]
    }
   ],
   "source": [
    "from src.finance import AssetAdvisor\n",
    "from src.paths import LOCAL_PROCESSED_DATA_PATH\n",
    "from src.helpers import get_valorization\n",
    "symbol = 'BTC-USD'\n",
    "crypto = AssetAdvisor(symbol_pair=symbol)\n",
    "crypto.extract_data(time_range_days=720, interval='1h', source='yahoo')\n",
    "crypto.calc_stats(ma_periods=(60*2,60*12))\n",
    "df = crypto.DataFrame\n",
    "for p in [-1, -2, -6, -12, -24, -24*2, -24*7, -24*15, -25*30]:\n",
    "    val = get_valorization(df, periods=p)\n",
    "    df[val.name] = val\n",
    "df.to_pickle(LOCAL_PROCESSED_DATA_PATH / f'{symbol.lower()}_featurized.pkl')"
   ]
  }
 ],
 "metadata": {
  "kernelspec": {
   "display_name": "crypto",
   "language": "python",
   "name": "crypto"
  },
  "language_info": {
   "codemirror_mode": {
    "name": "ipython",
    "version": 3
   },
   "file_extension": ".py",
   "mimetype": "text/x-python",
   "name": "python",
   "nbconvert_exporter": "python",
   "pygments_lexer": "ipython3",
   "version": "3.7.6"
  }
 },
 "nbformat": 4,
 "nbformat_minor": 5
}
