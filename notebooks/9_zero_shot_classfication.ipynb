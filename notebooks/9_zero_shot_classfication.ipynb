{
 "cells": [
  {
   "cell_type": "code",
   "execution_count": 7,
   "id": "569b7011-1039-4df3-bfcf-04b577e92b17",
   "metadata": {},
   "outputs": [],
   "source": [
    "# imports modules\n",
    "from src.paths import LOCAL_RAW_DATA_PATH, LOCAL_PROCESSED_DATA_PATH, LOCAL_MODELS_PATH\n",
    "from transformers import pipeline\n",
    "import pandas as pd\n",
    "import xgboost\n",
    "import pickle\n",
    "\n",
    "# loads data\n",
    "df_path = LOCAL_PROCESSED_DATA_PATH / 'pretrain_dataset_20211013.pkl'\n",
    "df = pd.read_pickle(df_path)"
   ]
  },
  {
   "cell_type": "code",
   "execution_count": 2,
   "id": "4711e059-76d7-404a-bcb9-f5548e1bdbd3",
   "metadata": {},
   "outputs": [
    {
     "data": {
      "application/vnd.jupyter.widget-view+json": {
       "model_id": "bb81707fb84449d0b44aaed0308b7464",
       "version_major": 2,
       "version_minor": 0
      },
      "text/plain": [
       "Downloading:   0%|          | 0.00/1.15k [00:00<?, ?B/s]"
      ]
     },
     "metadata": {},
     "output_type": "display_data"
    },
    {
     "data": {
      "application/vnd.jupyter.widget-view+json": {
       "model_id": "958a6c02b7d94a1bbfbe068e5fe993bc",
       "version_major": 2,
       "version_minor": 0
      },
      "text/plain": [
       "Downloading:   0%|          | 0.00/1.63G [00:00<?, ?B/s]"
      ]
     },
     "metadata": {},
     "output_type": "display_data"
    },
    {
     "data": {
      "application/vnd.jupyter.widget-view+json": {
       "model_id": "57410c463e86409bb6802a84d853d9bb",
       "version_major": 2,
       "version_minor": 0
      },
      "text/plain": [
       "Downloading:   0%|          | 0.00/899k [00:00<?, ?B/s]"
      ]
     },
     "metadata": {},
     "output_type": "display_data"
    },
    {
     "data": {
      "application/vnd.jupyter.widget-view+json": {
       "model_id": "6604f084b471425095bcc179da8a7ef5",
       "version_major": 2,
       "version_minor": 0
      },
      "text/plain": [
       "Downloading:   0%|          | 0.00/456k [00:00<?, ?B/s]"
      ]
     },
     "metadata": {},
     "output_type": "display_data"
    },
    {
     "data": {
      "application/vnd.jupyter.widget-view+json": {
       "model_id": "4651f30c6ed44f418a88a81b5c5a6ddc",
       "version_major": 2,
       "version_minor": 0
      },
      "text/plain": [
       "Downloading:   0%|          | 0.00/1.36M [00:00<?, ?B/s]"
      ]
     },
     "metadata": {},
     "output_type": "display_data"
    },
    {
     "data": {
      "application/vnd.jupyter.widget-view+json": {
       "model_id": "0e73a11adf484978a36d5013a36a0b3e",
       "version_major": 2,
       "version_minor": 0
      },
      "text/plain": [
       "Downloading:   0%|          | 0.00/26.0 [00:00<?, ?B/s]"
      ]
     },
     "metadata": {},
     "output_type": "display_data"
    }
   ],
   "source": [
    "# loads model\n",
    "model = pipeline('zero-shot-classification')"
   ]
  },
  {
   "cell_type": "code",
   "execution_count": 4,
   "id": "3051293a-a65b-4514-8043-7a76c8552305",
   "metadata": {},
   "outputs": [
    {
     "data": {
      "text/plain": [
       "{'sequence': 'I wanna take a cab at 8 pm',\n",
       " 'labels': ['Taxi', 'Trip', 'Game', 'Appointment'],\n",
       " 'scores': [0.8777869939804077,\n",
       "  0.6453558802604675,\n",
       "  0.05611748248338699,\n",
       "  0.04601442068815231]}"
      ]
     },
     "execution_count": 4,
     "metadata": {},
     "output_type": "execute_result"
    }
   ],
   "source": [
    "# tests model\n",
    "text = 'I wanna take a cab at 8 pm'\n",
    "labels = ['Taxi', 'Appointment', 'Trip', 'Game']\n",
    "model(text, labels, multi_label=True)"
   ]
  },
  {
   "cell_type": "code",
   "execution_count": 56,
   "id": "d14f6ad5-4980-43c5-8c67-a78959771d98",
   "metadata": {},
   "outputs": [],
   "source": [
    "# sets columns width\n",
    "pd.set_option('max_colwidth', 100) "
   ]
  },
  {
   "cell_type": "code",
   "execution_count": 73,
   "id": "61622f03-cd81-4ab3-b286-59d458cd4db3",
   "metadata": {},
   "outputs": [
    {
     "data": {
      "text/plain": [
       "31069     RT @ggreenwald: Please, please avoid having dinner with your family on Thanksgiving.\\n\\nStay at ...\n",
       "64870                                                     @TomBilyeu @MoralisWeb3 which ones do you watch? :)\n",
       "66644                                                                      @DanaAela Ok.\\n\\nWhy are you here?\n",
       "76115                                                                        @nicholasilechie Sarcasm is hard\n",
       "78109                                                         Are we in bizarro world https://t.co/CyukYsaqco\n",
       "44310                                                                                       @tottycoys 🙏🙏🙏🙏🙏🙏\n",
       "23336                     @A_Sovereign_Man @MichaelRippe @rekodi_i Yes, that is what I am. Give me a break. 🙄\n",
       "109491    \"Bitcoin could have already facilitated billions of dollars worth of censorship-resistant value ...\n",
       "126286                                                                       @LHeilpern @CFN_network Crush it\n",
       "67837     Last week we announced a new campaign to share with you the #CardanoAmbassador Stories. Thanks a...\n",
       "102905    @TGMetsFan98 @KlotzAdam @NASASpaceflight @Erdayastronaut Yeah. Although, if it fails right at th...\n",
       "25490                             @EnriqueVzlaC It just dropped on https://t.co/cshztuQSPY a few minutes ago!\n",
       "62091     The CDC says fully vaccinated people can hang out indoors with no mask, but if they go outside t...\n",
       "81444     @gladstein @ErikVoorhees @deeeedle @lopp @twobitidiot @HRF I don't think it's fair to call the b...\n",
       "95201     Sent this text message to about a 5th the population of the entire country of #Antigua.\\n#Bitcoi...\n",
       "Name: full_text, dtype: object"
      ]
     },
     "execution_count": 73,
     "metadata": {},
     "output_type": "execute_result"
    }
   ],
   "source": [
    "sample = df.full_text.sample(15, random_state=0)\n",
    "sample"
   ]
  },
  {
   "cell_type": "code",
   "execution_count": 69,
   "id": "08f7c042-0bd6-47c3-aedd-dbf4aeec8c07",
   "metadata": {},
   "outputs": [
    {
     "name": "stdout",
     "output_type": "stream",
     "text": [
      "@RookieXBT @KeyboardMonkey3 @CryptoCobain Please donate to a local DV shelter, they are hurting 🤝\n"
     ]
    }
   ],
   "source": [
    "txt = sample[77159]\n",
    "print(txt)"
   ]
  },
  {
   "cell_type": "code",
   "execution_count": 78,
   "id": "2eb6d12b-5e0f-4eba-a67d-089206d47b39",
   "metadata": {},
   "outputs": [],
   "source": [
    "labels = [\n",
    "    'Crypto',\n",
    "    'Happy',\n",
    "    'Irony'\n",
    "]"
   ]
  },
  {
   "cell_type": "code",
   "execution_count": 79,
   "id": "a5c93882-d6b3-4dcb-988a-bdaccc269648",
   "metadata": {},
   "outputs": [
    {
     "data": {
      "text/plain": [
       "{'sequence': '@RookieXBT @KeyboardMonkey3 @CryptoCobain Please donate to a local DV shelter, they are hurting 🤝',\n",
       " 'labels': ['Crypto', 'Irony', 'Happy'],\n",
       " 'scores': [0.7257636785507202, 0.3712671399116516, 0.004385455045849085]}"
      ]
     },
     "execution_count": 79,
     "metadata": {},
     "output_type": "execute_result"
    }
   ],
   "source": [
    "# tests model\n",
    "model(txt, labels, multi_label=True)"
   ]
  }
 ],
 "metadata": {
  "kernelspec": {
   "display_name": "crypto",
   "language": "python",
   "name": "crypto"
  },
  "language_info": {
   "codemirror_mode": {
    "name": "ipython",
    "version": 3
   },
   "file_extension": ".py",
   "mimetype": "text/x-python",
   "name": "python",
   "nbconvert_exporter": "python",
   "pygments_lexer": "ipython3",
   "version": "3.7.6"
  }
 },
 "nbformat": 4,
 "nbformat_minor": 5
}
