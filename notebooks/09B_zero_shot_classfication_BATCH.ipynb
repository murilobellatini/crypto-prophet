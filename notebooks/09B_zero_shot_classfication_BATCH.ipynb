{
 "cells": [
  {
   "cell_type": "code",
   "execution_count": 1,
   "id": "569b7011-1039-4df3-bfcf-04b577e92b17",
   "metadata": {},
   "outputs": [
    {
     "name": "stderr",
     "output_type": "stream",
     "text": [
      "c:\\users\\muril\\.virtualenvs\\crypto-prophet-ckjwbuny\\lib\\site-packages\\ipykernel_launcher.py:3: TqdmDeprecationWarning: This function will be removed in tqdm==5.0.0\n",
      "Please use `tqdm.notebook.*` instead of `tqdm._tqdm_notebook.*`\n",
      "  This is separate from the ipykernel package so we can avoid doing imports until\n"
     ]
    }
   ],
   "source": [
    "# imports modules\n",
    "from src.paths import LOCAL_RAW_DATA_PATH, LOCAL_PROCESSED_DATA_PATH, LOCAL_MODELS_PATH\n",
    "from tqdm._tqdm_notebook import tqdm_notebook\n",
    "from transformers import pipeline\n",
    "import pandas as pd\n",
    "import xgboost\n",
    "import pickle\n",
    "\n",
    "tqdm_notebook.pandas()\n",
    "\n",
    "# loads data\n",
    "df_path = LOCAL_PROCESSED_DATA_PATH / 'pretrain_dataset_20211013.pkl'\n",
    "df = pd.read_pickle(df_path)"
   ]
  },
  {
   "cell_type": "code",
   "execution_count": 2,
   "id": "4711e059-76d7-404a-bcb9-f5548e1bdbd3",
   "metadata": {},
   "outputs": [],
   "source": [
    "# loads model\n",
    "model = pipeline('zero-shot-classification')"
   ]
  },
  {
   "cell_type": "code",
   "execution_count": 6,
   "id": "3051293a-a65b-4514-8043-7a76c8552305",
   "metadata": {},
   "outputs": [
    {
     "data": {
      "text/plain": [
       "{'sequence': 'I wanna take a cab at 8 pm',\n",
       " 'labels': ['Taxi', 'Trip', 'Game', 'Appointment'],\n",
       " 'scores': [0.8777869939804077,\n",
       "  0.6453558802604675,\n",
       "  0.05611748248338699,\n",
       "  0.04601442068815231]}"
      ]
     },
     "execution_count": 6,
     "metadata": {},
     "output_type": "execute_result"
    }
   ],
   "source": [
    "# tests model\n",
    "text = 'I wanna take a cab at 8 pm'\n",
    "labels = ['Taxi', 'Appointment', 'Trip', 'Game']\n",
    "model(text, labels, multi_label=True)"
   ]
  },
  {
   "cell_type": "code",
   "execution_count": 7,
   "id": "d14f6ad5-4980-43c5-8c67-a78959771d98",
   "metadata": {},
   "outputs": [],
   "source": [
    "# sets columns width\n",
    "pd.set_option('max_colwidth', 100) "
   ]
  },
  {
   "cell_type": "code",
   "execution_count": 8,
   "id": "61622f03-cd81-4ab3-b286-59d458cd4db3",
   "metadata": {},
   "outputs": [
    {
     "data": {
      "text/plain": [
       "31069     RT @ggreenwald: Please, please avoid having dinner with your family on Thanksgiving.\\n\\nStay at ...\n",
       "64870                                                     @TomBilyeu @MoralisWeb3 which ones do you watch? :)\n",
       "66644                                                                      @DanaAela Ok.\\n\\nWhy are you here?\n",
       "76115                                                                        @nicholasilechie Sarcasm is hard\n",
       "78109                                                         Are we in bizarro world https://t.co/CyukYsaqco\n",
       "44310                                                                                       @tottycoys 🙏🙏🙏🙏🙏🙏\n",
       "23336                     @A_Sovereign_Man @MichaelRippe @rekodi_i Yes, that is what I am. Give me a break. 🙄\n",
       "109491    \"Bitcoin could have already facilitated billions of dollars worth of censorship-resistant value ...\n",
       "126286                                                                       @LHeilpern @CFN_network Crush it\n",
       "67837     Last week we announced a new campaign to share with you the #CardanoAmbassador Stories. Thanks a...\n",
       "102905    @TGMetsFan98 @KlotzAdam @NASASpaceflight @Erdayastronaut Yeah. Although, if it fails right at th...\n",
       "25490                             @EnriqueVzlaC It just dropped on https://t.co/cshztuQSPY a few minutes ago!\n",
       "62091     The CDC says fully vaccinated people can hang out indoors with no mask, but if they go outside t...\n",
       "81444     @gladstein @ErikVoorhees @deeeedle @lopp @twobitidiot @HRF I don't think it's fair to call the b...\n",
       "95201     Sent this text message to about a 5th the population of the entire country of #Antigua.\\n#Bitcoi...\n",
       "Name: full_text, dtype: object"
      ]
     },
     "execution_count": 8,
     "metadata": {},
     "output_type": "execute_result"
    }
   ],
   "source": [
    "sample = df.full_text.sample(15, random_state=0)\n",
    "sample"
   ]
  },
  {
   "cell_type": "code",
   "execution_count": 10,
   "id": "08f7c042-0bd6-47c3-aedd-dbf4aeec8c07",
   "metadata": {},
   "outputs": [
    {
     "name": "stdout",
     "output_type": "stream",
     "text": [
      "\"Bitcoin could have already facilitated billions of dollars worth of censorship-resistant value transfer to and from Venezuela.\"\n",
      "\n",
      "\"Bitcoin has already played a part in changing the destiny of an entire country.\"\n",
      "\n",
      "Groundbreaking research by @MattAhlborg \n",
      "https://t.co/EdGguqxCMs\n"
     ]
    }
   ],
   "source": [
    "txt = sample[109491]\n",
    "print(txt)"
   ]
  },
  {
   "cell_type": "code",
   "execution_count": 11,
   "id": "2eb6d12b-5e0f-4eba-a67d-089206d47b39",
   "metadata": {},
   "outputs": [],
   "source": [
    "labels = [\n",
    "    'Crypto',\n",
    "    'Bitcoin',\n",
    "]"
   ]
  },
  {
   "cell_type": "code",
   "execution_count": 12,
   "id": "a5c93882-d6b3-4dcb-988a-bdaccc269648",
   "metadata": {},
   "outputs": [
    {
     "data": {
      "text/plain": [
       "{'sequence': '\"Bitcoin could have already facilitated billions of dollars worth of censorship-resistant value transfer to and from Venezuela.\"\\n\\n\"Bitcoin has already played a part in changing the destiny of an entire country.\"\\n\\nGroundbreaking research by @MattAhlborg \\nhttps://t.co/EdGguqxCMs',\n",
       " 'labels': ['Bitcoin', 'Crypto'],\n",
       " 'scores': [0.9668909311294556, 0.35959258675575256]}"
      ]
     },
     "execution_count": 12,
     "metadata": {},
     "output_type": "execute_result"
    }
   ],
   "source": [
    "# tests model\n",
    "model(txt, labels, multi_label=True)"
   ]
  },
  {
   "cell_type": "code",
   "execution_count": 17,
   "id": "35016c0a-d75c-4a23-a06b-7b40c4f0051a",
   "metadata": {},
   "outputs": [
    {
     "data": {
      "text/plain": [
       "[{'sequence': 'RT @SpaceX: Crew Dragon and Falcon 9 in the hangar at Launch Complex 39A ahead of launching four astronauts to the @space_station; liftoff…',\n",
       "  'labels': ['Crypto', 'Bitcoin'],\n",
       "  'scores': [0.004856843501329422, 0.0013822255423292518]},\n",
       " {'sequence': '@SoleimanWes Ummmmmmmmmmmmmmmm',\n",
       "  'labels': ['Crypto', 'Bitcoin'],\n",
       "  'scores': [0.07035194337368011, 0.012568430975079536]},\n",
       " {'sequence': '@zooko Bitcoin maximalism has no live players.\\n\\nhttps://t.co/ZcMHZO1iLQ',\n",
       "  'labels': ['Bitcoin', 'Crypto'],\n",
       "  'scores': [0.9714718461036682, 0.7016560435295105]},\n",
       " {'sequence': 'BNB will get a breakout soon and ETH is getting closer to my target!\\n\\nWatch my video for my next trade: https://t.co/CpBHRuMNaW',\n",
       "  'labels': ['Crypto', 'Bitcoin'],\n",
       "  'scores': [0.6623146533966064, 0.000379884266294539]}]"
      ]
     },
     "execution_count": 17,
     "metadata": {},
     "output_type": "execute_result"
    }
   ],
   "source": [
    "zsc_classes = model(df.full_text.to_list(), labels, multi_label=True)"
   ]
  },
  {
   "cell_type": "code",
   "execution_count": 18,
   "id": "dda91ca2-3210-4b36-a883-30d191384d0c",
   "metadata": {},
   "outputs": [],
   "source": [
    "# df['zsc_classes'] = df.full_text.progress_apply(lambda x: model(x, labels, multi_label=True))"
   ]
  },
  {
   "cell_type": "code",
   "execution_count": null,
   "id": "0a36768b-4a03-4b06-9ac2-56eded7a2518",
   "metadata": {},
   "outputs": [],
   "source": []
  }
 ],
 "metadata": {
  "kernelspec": {
   "display_name": "crypto",
   "language": "python",
   "name": "crypto"
  },
  "language_info": {
   "codemirror_mode": {
    "name": "ipython",
    "version": 3
   },
   "file_extension": ".py",
   "mimetype": "text/x-python",
   "name": "python",
   "nbconvert_exporter": "python",
   "pygments_lexer": "ipython3",
   "version": "3.7.6"
  }
 },
 "nbformat": 4,
 "nbformat_minor": 5
}
