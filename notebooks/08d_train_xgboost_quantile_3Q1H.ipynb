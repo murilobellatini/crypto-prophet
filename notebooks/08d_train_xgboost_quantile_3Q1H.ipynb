{
 "cells": [
  {
   "cell_type": "code",
   "execution_count": 1,
   "id": "c3f4bfef-ba9d-4bf7-8064-25de54cce75e",
   "metadata": {},
   "outputs": [
    {
     "name": "stderr",
     "output_type": "stream",
     "text": [
      "c:\\users\\muril\\.virtualenvs\\crypto-prophet-ckjwbuny\\lib\\site-packages\\ipykernel_launcher.py:7: TqdmDeprecationWarning: This function will be removed in tqdm==5.0.0\n",
      "Please use `tqdm.notebook.*` instead of `tqdm._tqdm_notebook.*`\n",
      "  import sys\n"
     ]
    }
   ],
   "source": [
    "from src.paths import LOCAL_RAW_DATA_PATH, LOCAL_PROCESSED_DATA_PATH, LOCAL_MODELS_PATH\n",
    "\n",
    "\n",
    "from sklearn.model_selection import GridSearchCV, cross_val_score, KFold, train_test_split\n",
    "from sklearn.metrics import mean_squared_error, mean_absolute_error\n",
    "from sklearn.preprocessing import LabelEncoder\n",
    "from tqdm._tqdm_notebook import tqdm_notebook\n",
    "from collections import OrderedDict\n",
    "from xgboost import plot_importance\n",
    "import matplotlib.pyplot as plt \n",
    "from scipy.stats import skew\n",
    "import missingno as msno\n",
    "import pandas as pd\n",
    "import xgboost\n",
    "import pickle\n",
    "\n",
    "\n",
    "tqdm_notebook.pandas()\n",
    "\n",
    "seed = 42\n",
    "\n",
    "df_path = LOCAL_PROCESSED_DATA_PATH / 'pretrain_dataset_20211013.pkl'\n",
    "df = pd.read_pickle(df_path)\n",
    "tgt_vars = [c for c in df.columns if '_change_' in str(c)]\n",
    "\n",
    "drop_cols = ['created_at', 'created_at_trunc_h', 'id_str',\n",
    "             'full_text', 'user_screen_name',\n",
    "             'ma_120_periods', 'ma_720_periods'] + tgt_vars\n",
    "X_cols = [c for c in df.columns if c not in drop_cols]"
   ]
  },
  {
   "cell_type": "code",
   "execution_count": 2,
   "id": "89f8dd87-1ce1-44bf-bcba-1227474336e1",
   "metadata": {},
   "outputs": [
    {
     "data": {
      "text/plain": [
       "{Interval(-0.111, -0.00193, closed='right'): 'Q1_DECREASE',\n",
       " Interval(-0.00193, 0.00233, closed='right'): 'Q2_NEUTRAL',\n",
       " Interval(0.00233, 0.103, closed='right'): 'Q3_INCREASE'}"
      ]
     },
     "execution_count": 2,
     "metadata": {},
     "output_type": "execute_result"
    }
   ],
   "source": [
    "df['close_change_1periods_perc_3Q'] = pd.qcut(df['close_change_1periods_perc'], q=3)\n",
    "cc1pp3Q_to_hr = {}\n",
    "scale = ['DECREASE', 'NEUTRAL', 'INCREASE']\n",
    "for i, v in enumerate(df['close_change_1periods_perc_3Q'].unique().sort_values()):\n",
    "    cc1pp3Q_to_hr[v] = f'Q{i+1}_{scale[i]}' \n",
    "cc1pp3Q_to_hr"
   ]
  },
  {
   "cell_type": "code",
   "execution_count": 3,
   "id": "e572609c-5fad-4de8-a885-3c055ec4ec42",
   "metadata": {},
   "outputs": [],
   "source": [
    "df['close_change_1periods_perc_3Q_HR'] = df['close_change_1periods_perc_3Q'].map(cc1pp3Q_to_hr)"
   ]
  },
  {
   "cell_type": "code",
   "execution_count": 4,
   "id": "45abf28d-3f70-48e8-a5cd-4ceda01b919e",
   "metadata": {},
   "outputs": [],
   "source": [
    "X = df[X_cols]\n",
    "y = df['close_change_1periods_perc_3Q_HR']"
   ]
  },
  {
   "cell_type": "code",
   "execution_count": 5,
   "id": "12d33130-db92-47b0-b8e1-597ac9405dcc",
   "metadata": {},
   "outputs": [
    {
     "data": {
      "text/plain": [
       "(0, 0)"
      ]
     },
     "execution_count": 5,
     "metadata": {},
     "output_type": "execute_result"
    }
   ],
   "source": [
    "X.isna().sum().sum(), y.isna().sum()"
   ]
  },
  {
   "cell_type": "code",
   "execution_count": 6,
   "id": "b2997dc3-bd21-4d40-b629-302fc3b4d689",
   "metadata": {},
   "outputs": [],
   "source": [
    "X_train, X_test, y_train, y_test = train_test_split(X, y, test_size=0.20, random_state=seed)\n",
    "# X_train, X_val, y_train, y_val = train_test_split(X_train, y_train, test_size=0.25, random_state=seed) "
   ]
  },
  {
   "cell_type": "code",
   "execution_count": 7,
   "id": "08d44a7c-c366-40a9-9fba-c459341ec020",
   "metadata": {},
   "outputs": [
    {
     "name": "stdout",
     "output_type": "stream",
     "text": [
      "(73656, 779) (18415, 779)\n",
      "(73656,) (18415,)\n"
     ]
    },
    {
     "data": {
      "text/plain": [
       "True"
      ]
     },
     "execution_count": 7,
     "metadata": {},
     "output_type": "execute_result"
    }
   ],
   "source": [
    "print(X_train.shape,  X_test.shape)\n",
    "print(y_train.shape,  y_test.shape)\n",
    "df.shape[0] == X_train.shape[0] + X_test.shape[0] "
   ]
  },
  {
   "cell_type": "code",
   "execution_count": 8,
   "id": "9fced42c-4379-41fc-91b7-124053b2a51b",
   "metadata": {},
   "outputs": [],
   "source": [
    "# xgboost.XGBClassifier\n",
    "# xgboost.XGBRFClassifier"
   ]
  },
  {
   "cell_type": "code",
   "execution_count": 9,
   "id": "1b6037d6-dd72-42e9-ac89-a682c214f5f3",
   "metadata": {},
   "outputs": [],
   "source": [
    "xgboost.set_config(**{'use_rmm': False, 'verbosity': 1})"
   ]
  },
  {
   "cell_type": "code",
   "execution_count": 10,
   "id": "87634de9-16b9-4a38-8707-de5936763363",
   "metadata": {},
   "outputs": [
    {
     "name": "stdout",
     "output_type": "stream",
     "text": [
      "Wall time: 0 ns\n"
     ]
    },
    {
     "name": "stderr",
     "output_type": "stream",
     "text": [
      "c:\\users\\muril\\.virtualenvs\\crypto-prophet-ckjwbuny\\lib\\site-packages\\xgboost\\sklearn.py:1146: UserWarning: The use of label encoder in XGBClassifier is deprecated and will be removed in a future release. To remove this warning, do the following: 1) Pass option use_label_encoder=False when constructing XGBClassifier object; and 2) Encode your labels (y) as integers starting with 0, i.e. 0, 1, 2, ..., [num_class - 1].\n",
      "  warnings.warn(label_encoder_deprecation_msg, UserWarning)\n"
     ]
    },
    {
     "name": "stdout",
     "output_type": "stream",
     "text": [
      "[02:51:41] WARNING: C:/Users/Administrator/workspace/xgboost-win64_release_1.4.0/src/learner.cc:1095: Starting in XGBoost 1.3.0, the default evaluation metric used with the objective 'multi:softprob' was changed from 'merror' to 'mlogloss'. Explicitly set eval_metric if you'd like to restore the old behavior.\n"
     ]
    },
    {
     "data": {
      "text/plain": [
       "XGBRFClassifier(base_score=0.5, booster='gbtree', colsample_bylevel=1,\n",
       "                colsample_bytree=0.8, gamma=0, gpu_id=-1,\n",
       "                importance_type='gain', interaction_constraints='',\n",
       "                learning_rate=0.01, max_delta_step=0, max_depth=5,\n",
       "                min_child_weight=1.5, missing=nan, monotone_constraints='()',\n",
       "                n_estimators=1200, n_jobs=8, num_parallel_tree=1200,\n",
       "                objective='multi:softprob', random_state=42, reg_alpha=0.75,\n",
       "                reg_lambda=0.45, scale_pos_weight=None, seed=42, subsample=0.9,\n",
       "                tree_method='exact', validate_parameters=1, verbosity=None)"
      ]
     },
     "execution_count": 10,
     "metadata": {},
     "output_type": "execute_result"
    }
   ],
   "source": [
    "%time\n",
    "\n",
    "model = xgboost.XGBRFClassifier(**{\n",
    "    'colsample_bytree': 0.8,\n",
    "    'gamma': 0,\n",
    "    'learning_rate': 0.01,\n",
    "    'max_depth': 5,\n",
    "    'min_child_weight': 1.5,\n",
    "    'n_estimators': 1200,\n",
    "    'reg_alpha': 0.75,\n",
    "    'reg_lambda': 0.45,\n",
    "    'seed': seed,\n",
    "    'subsample': 0.9\n",
    "}) \n",
    "\n",
    "\n",
    "model.fit(X_train,y_train)"
   ]
  },
  {
   "cell_type": "code",
   "execution_count": 11,
   "id": "db81972b",
   "metadata": {},
   "outputs": [],
   "source": [
    "with open(LOCAL_MODELS_PATH / 'xgboost_20211014_XGBRFClassifier_3Q1H.pkl', mode='wb') as fp:\n",
    "    pickle.dump(model, fp)"
   ]
  },
  {
   "cell_type": "code",
   "execution_count": 12,
   "id": "e8cad4c2",
   "metadata": {},
   "outputs": [
    {
     "name": "stdout",
     "output_type": "stream",
     "text": [
      "finish!\n"
     ]
    }
   ],
   "source": [
    "print('finish!')"
   ]
  },
  {
   "cell_type": "code",
   "execution_count": 13,
   "id": "8408b167-2f44-4100-8cea-adc09004d62f",
   "metadata": {},
   "outputs": [
    {
     "data": {
      "text/plain": [
       "0.4912295945520305"
      ]
     },
     "execution_count": 13,
     "metadata": {},
     "output_type": "execute_result"
    }
   ],
   "source": [
    "from sklearn.metrics import accuracy_score\n",
    "accuracy_score(y, model.predict(X))"
   ]
  },
  {
   "cell_type": "code",
   "execution_count": 14,
   "id": "e145d929-cf68-4c80-9460-58d365f73c33",
   "metadata": {},
   "outputs": [],
   "source": [
    "from sklearn.metrics import plot_confusion_matrix\n"
   ]
  },
  {
   "cell_type": "code",
   "execution_count": 15,
   "id": "923db71c-bb09-4469-ae2f-6bb6dee2ba06",
   "metadata": {},
   "outputs": [
    {
     "data": {
      "text/plain": [
       "<sklearn.metrics._plot.confusion_matrix.ConfusionMatrixDisplay at 0x2b72d22a308>"
      ]
     },
     "execution_count": 15,
     "metadata": {},
     "output_type": "execute_result"
    },
    {
     "data": {
      "image/png": "[encoded data removed]",
      "text/plain": [
       "<Figure size 432x288 with 2 Axes>"
      ]
     },
     "metadata": {
      "needs_background": "light"
     },
     "output_type": "display_data"
    }
   ],
   "source": [
    "plot_confusion_matrix(model, X, y)  "
   ]
  },
  {
   "cell_type": "code",
   "execution_count": 16,
   "id": "2062cb20-8f41-4aa5-825e-672fce84c83a",
   "metadata": {},
   "outputs": [],
   "source": [
    "import pickle"
   ]
  },
  {
   "cell_type": "code",
   "execution_count": 17,
   "id": "1d2fe857-ee96-40f9-9b82-cdc2215c04b8",
   "metadata": {},
   "outputs": [],
   "source": [
    "with open(LOCAL_MODELS_PATH / 'user_label_encoder.pkl', 'rb') as fp:\n",
    "    user_le = pickle.load(fp)"
   ]
  },
  {
   "cell_type": "code",
   "execution_count": 18,
   "id": "0efd15b3-821e-43ab-8b09-dc3fd73ce242",
   "metadata": {},
   "outputs": [],
   "source": [
    "user2score = []\n",
    "for u in X_train.user_feat.unique():\n",
    "    mask = X.user_feat == u\n",
    "    user_screen_name = user_le.inverse_transform([u])[0]\n",
    "    stats ={\n",
    "        'user_label': u,\n",
    "        'user_screen_name': user_screen_name,\n",
    "        'accuracy': model.score(X[mask], y[mask]),\n",
    "        'tweet_count': mask.sum()}\n",
    "    user2score.append(stats)\n",
    "user2score = pd.DataFrame(user2score).sort_values('accuracy', ascending=False)"
   ]
  },
  {
   "cell_type": "code",
   "execution_count": 19,
   "id": "caa10efe-3f7c-4c3e-9c8e-8ead316be6ac",
   "metadata": {},
   "outputs": [
    {
     "data": {
      "text/html": [
       "<div>\n",
       "<style scoped>\n",
       "    .dataframe tbody tr th:only-of-type {\n",
       "        vertical-align: middle;\n",
       "    }\n",
       "\n",
       "    .dataframe tbody tr th {\n",
       "        vertical-align: top;\n",
       "    }\n",
       "\n",
       "    .dataframe thead th {\n",
       "        text-align: right;\n",
       "    }\n",
       "</style>\n",
       "<table border=\"1\" class=\"dataframe\">\n",
       "  <thead>\n",
       "    <tr style=\"text-align: right;\">\n",
       "      <th></th>\n",
       "      <th>user_label</th>\n",
       "      <th>user_screen_name</th>\n",
       "      <th>accuracy</th>\n",
       "      <th>tweet_count</th>\n",
       "    </tr>\n",
       "  </thead>\n",
       "  <tbody>\n",
       "    <tr>\n",
       "      <th>40</th>\n",
       "      <td>7</td>\n",
       "      <td>CryptoBrekkie</td>\n",
       "      <td>0.666667</td>\n",
       "      <td>3</td>\n",
       "    </tr>\n",
       "    <tr>\n",
       "      <th>15</th>\n",
       "      <td>28</td>\n",
       "      <td>VitalikButerin</td>\n",
       "      <td>0.587903</td>\n",
       "      <td>3191</td>\n",
       "    </tr>\n",
       "    <tr>\n",
       "      <th>14</th>\n",
       "      <td>41</td>\n",
       "      <td>officialmcafee</td>\n",
       "      <td>0.566615</td>\n",
       "      <td>3235</td>\n",
       "    </tr>\n",
       "    <tr>\n",
       "      <th>31</th>\n",
       "      <td>19</td>\n",
       "      <td>PeterMcCormack</td>\n",
       "      <td>0.557407</td>\n",
       "      <td>3240</td>\n",
       "    </tr>\n",
       "    <tr>\n",
       "      <th>34</th>\n",
       "      <td>6</td>\n",
       "      <td>Coinbound_io</td>\n",
       "      <td>0.544218</td>\n",
       "      <td>882</td>\n",
       "    </tr>\n",
       "    <tr>\n",
       "      <th>16</th>\n",
       "      <td>35</td>\n",
       "      <td>elonmusk</td>\n",
       "      <td>0.535990</td>\n",
       "      <td>3237</td>\n",
       "    </tr>\n",
       "    <tr>\n",
       "      <th>33</th>\n",
       "      <td>36</td>\n",
       "      <td>ethereum</td>\n",
       "      <td>0.521265</td>\n",
       "      <td>917</td>\n",
       "    </tr>\n",
       "    <tr>\n",
       "      <th>21</th>\n",
       "      <td>42</td>\n",
       "      <td>rogerkver</td>\n",
       "      <td>0.520000</td>\n",
       "      <td>575</td>\n",
       "    </tr>\n",
       "    <tr>\n",
       "      <th>32</th>\n",
       "      <td>25</td>\n",
       "      <td>TimDraper</td>\n",
       "      <td>0.519231</td>\n",
       "      <td>572</td>\n",
       "    </tr>\n",
       "    <tr>\n",
       "      <th>27</th>\n",
       "      <td>24</td>\n",
       "      <td>TheMoonCarl</td>\n",
       "      <td>0.517736</td>\n",
       "      <td>1184</td>\n",
       "    </tr>\n",
       "    <tr>\n",
       "      <th>37</th>\n",
       "      <td>14</td>\n",
       "      <td>FEhrsam</td>\n",
       "      <td>0.516320</td>\n",
       "      <td>337</td>\n",
       "    </tr>\n",
       "    <tr>\n",
       "      <th>3</th>\n",
       "      <td>39</td>\n",
       "      <td>justinsuntron</td>\n",
       "      <td>0.514386</td>\n",
       "      <td>3406</td>\n",
       "    </tr>\n",
       "    <tr>\n",
       "      <th>25</th>\n",
       "      <td>38</td>\n",
       "      <td>intocryptoverse</td>\n",
       "      <td>0.509472</td>\n",
       "      <td>1003</td>\n",
       "    </tr>\n",
       "    <tr>\n",
       "      <th>7</th>\n",
       "      <td>15</td>\n",
       "      <td>IvanOnTech</td>\n",
       "      <td>0.509091</td>\n",
       "      <td>3410</td>\n",
       "    </tr>\n",
       "    <tr>\n",
       "      <th>30</th>\n",
       "      <td>16</td>\n",
       "      <td>KennethBosak</td>\n",
       "      <td>0.507536</td>\n",
       "      <td>3450</td>\n",
       "    </tr>\n",
       "    <tr>\n",
       "      <th>29</th>\n",
       "      <td>20</td>\n",
       "      <td>SatoshiLite</td>\n",
       "      <td>0.504717</td>\n",
       "      <td>2120</td>\n",
       "    </tr>\n",
       "    <tr>\n",
       "      <th>17</th>\n",
       "      <td>33</td>\n",
       "      <td>danheld</td>\n",
       "      <td>0.503857</td>\n",
       "      <td>3241</td>\n",
       "    </tr>\n",
       "    <tr>\n",
       "      <th>38</th>\n",
       "      <td>13</td>\n",
       "      <td>EuclidAndOaks</td>\n",
       "      <td>0.498423</td>\n",
       "      <td>317</td>\n",
       "    </tr>\n",
       "    <tr>\n",
       "      <th>8</th>\n",
       "      <td>32</td>\n",
       "      <td>coinbureau</td>\n",
       "      <td>0.496900</td>\n",
       "      <td>2419</td>\n",
       "    </tr>\n",
       "    <tr>\n",
       "      <th>23</th>\n",
       "      <td>12</td>\n",
       "      <td>ErikVoorhees</td>\n",
       "      <td>0.495793</td>\n",
       "      <td>3447</td>\n",
       "    </tr>\n",
       "    <tr>\n",
       "      <th>20</th>\n",
       "      <td>26</td>\n",
       "      <td>ToneVays</td>\n",
       "      <td>0.493892</td>\n",
       "      <td>3438</td>\n",
       "    </tr>\n",
       "    <tr>\n",
       "      <th>26</th>\n",
       "      <td>21</td>\n",
       "      <td>StackerSatoshi</td>\n",
       "      <td>0.491690</td>\n",
       "      <td>1444</td>\n",
       "    </tr>\n",
       "    <tr>\n",
       "      <th>11</th>\n",
       "      <td>0</td>\n",
       "      <td>100trillionUSD</td>\n",
       "      <td>0.491028</td>\n",
       "      <td>2285</td>\n",
       "    </tr>\n",
       "    <tr>\n",
       "      <th>10</th>\n",
       "      <td>5</td>\n",
       "      <td>Cardano</td>\n",
       "      <td>0.490233</td>\n",
       "      <td>2150</td>\n",
       "    </tr>\n",
       "    <tr>\n",
       "      <th>28</th>\n",
       "      <td>27</td>\n",
       "      <td>TyDanielSmith</td>\n",
       "      <td>0.489227</td>\n",
       "      <td>2367</td>\n",
       "    </tr>\n",
       "    <tr>\n",
       "      <th>2</th>\n",
       "      <td>34</td>\n",
       "      <td>davidgokhshtein</td>\n",
       "      <td>0.486377</td>\n",
       "      <td>3450</td>\n",
       "    </tr>\n",
       "    <tr>\n",
       "      <th>35</th>\n",
       "      <td>30</td>\n",
       "      <td>bhorowitz</td>\n",
       "      <td>0.483421</td>\n",
       "      <td>573</td>\n",
       "    </tr>\n",
       "    <tr>\n",
       "      <th>0</th>\n",
       "      <td>4</td>\n",
       "      <td>Bitboy_Crypto</td>\n",
       "      <td>0.478100</td>\n",
       "      <td>3242</td>\n",
       "    </tr>\n",
       "    <tr>\n",
       "      <th>9</th>\n",
       "      <td>3</td>\n",
       "      <td>BarrySilbert</td>\n",
       "      <td>0.470825</td>\n",
       "      <td>1491</td>\n",
       "    </tr>\n",
       "    <tr>\n",
       "      <th>6</th>\n",
       "      <td>17</td>\n",
       "      <td>LayahHeilpern</td>\n",
       "      <td>0.468269</td>\n",
       "      <td>3246</td>\n",
       "    </tr>\n",
       "    <tr>\n",
       "      <th>22</th>\n",
       "      <td>9</td>\n",
       "      <td>CryptoEuclid</td>\n",
       "      <td>0.465729</td>\n",
       "      <td>3341</td>\n",
       "    </tr>\n",
       "    <tr>\n",
       "      <th>12</th>\n",
       "      <td>37</td>\n",
       "      <td>girlgone_crypto</td>\n",
       "      <td>0.463457</td>\n",
       "      <td>3448</td>\n",
       "    </tr>\n",
       "    <tr>\n",
       "      <th>19</th>\n",
       "      <td>40</td>\n",
       "      <td>mysticaloaks</td>\n",
       "      <td>0.459710</td>\n",
       "      <td>3450</td>\n",
       "    </tr>\n",
       "    <tr>\n",
       "      <th>13</th>\n",
       "      <td>31</td>\n",
       "      <td>brian_armstrong</td>\n",
       "      <td>0.454819</td>\n",
       "      <td>332</td>\n",
       "    </tr>\n",
       "    <tr>\n",
       "      <th>41</th>\n",
       "      <td>18</td>\n",
       "      <td>Maxwell_Maher</td>\n",
       "      <td>0.454545</td>\n",
       "      <td>11</td>\n",
       "    </tr>\n",
       "    <tr>\n",
       "      <th>5</th>\n",
       "      <td>10</td>\n",
       "      <td>CryptoWendyO</td>\n",
       "      <td>0.452270</td>\n",
       "      <td>3436</td>\n",
       "    </tr>\n",
       "    <tr>\n",
       "      <th>4</th>\n",
       "      <td>8</td>\n",
       "      <td>CryptoCobain</td>\n",
       "      <td>0.449347</td>\n",
       "      <td>3445</td>\n",
       "    </tr>\n",
       "    <tr>\n",
       "      <th>24</th>\n",
       "      <td>29</td>\n",
       "      <td>aantonop</td>\n",
       "      <td>0.443607</td>\n",
       "      <td>3316</td>\n",
       "    </tr>\n",
       "    <tr>\n",
       "      <th>1</th>\n",
       "      <td>23</td>\n",
       "      <td>TheCryptoDog</td>\n",
       "      <td>0.436055</td>\n",
       "      <td>3245</td>\n",
       "    </tr>\n",
       "    <tr>\n",
       "      <th>18</th>\n",
       "      <td>1</td>\n",
       "      <td>APompliano</td>\n",
       "      <td>0.424471</td>\n",
       "      <td>3449</td>\n",
       "    </tr>\n",
       "    <tr>\n",
       "      <th>36</th>\n",
       "      <td>2</td>\n",
       "      <td>AltcoinDailyio</td>\n",
       "      <td>0.415385</td>\n",
       "      <td>650</td>\n",
       "    </tr>\n",
       "    <tr>\n",
       "      <th>39</th>\n",
       "      <td>11</td>\n",
       "      <td>Cryptosrus</td>\n",
       "      <td>0.356164</td>\n",
       "      <td>73</td>\n",
       "    </tr>\n",
       "    <tr>\n",
       "      <th>42</th>\n",
       "      <td>22</td>\n",
       "      <td>StackingUSD</td>\n",
       "      <td>0.000000</td>\n",
       "      <td>3</td>\n",
       "    </tr>\n",
       "  </tbody>\n",
       "</table>\n",
       "</div>"
      ],
      "text/plain": [
       "    user_label user_screen_name  accuracy  tweet_count\n",
       "40           7    CryptoBrekkie  0.666667            3\n",
       "15          28   VitalikButerin  0.587903         3191\n",
       "14          41   officialmcafee  0.566615         3235\n",
       "31          19   PeterMcCormack  0.557407         3240\n",
       "34           6     Coinbound_io  0.544218          882\n",
       "16          35         elonmusk  0.535990         3237\n",
       "33          36         ethereum  0.521265          917\n",
       "21          42        rogerkver  0.520000          575\n",
       "32          25        TimDraper  0.519231          572\n",
       "27          24      TheMoonCarl  0.517736         1184\n",
       "37          14          FEhrsam  0.516320          337\n",
       "3           39    justinsuntron  0.514386         3406\n",
       "25          38  intocryptoverse  0.509472         1003\n",
       "7           15       IvanOnTech  0.509091         3410\n",
       "30          16     KennethBosak  0.507536         3450\n",
       "29          20      SatoshiLite  0.504717         2120\n",
       "17          33          danheld  0.503857         3241\n",
       "38          13    EuclidAndOaks  0.498423          317\n",
       "8           32       coinbureau  0.496900         2419\n",
       "23          12     ErikVoorhees  0.495793         3447\n",
       "20          26         ToneVays  0.493892         3438\n",
       "26          21   StackerSatoshi  0.491690         1444\n",
       "11           0   100trillionUSD  0.491028         2285\n",
       "10           5          Cardano  0.490233         2150\n",
       "28          27    TyDanielSmith  0.489227         2367\n",
       "2           34  davidgokhshtein  0.486377         3450\n",
       "35          30        bhorowitz  0.483421          573\n",
       "0            4    Bitboy_Crypto  0.478100         3242\n",
       "9            3     BarrySilbert  0.470825         1491\n",
       "6           17    LayahHeilpern  0.468269         3246\n",
       "22           9     CryptoEuclid  0.465729         3341\n",
       "12          37  girlgone_crypto  0.463457         3448\n",
       "19          40     mysticaloaks  0.459710         3450\n",
       "13          31  brian_armstrong  0.454819          332\n",
       "41          18    Maxwell_Maher  0.454545           11\n",
       "5           10     CryptoWendyO  0.452270         3436\n",
       "4            8     CryptoCobain  0.449347         3445\n",
       "24          29         aantonop  0.443607         3316\n",
       "1           23     TheCryptoDog  0.436055         3245\n",
       "18           1       APompliano  0.424471         3449\n",
       "36           2   AltcoinDailyio  0.415385          650\n",
       "39          11       Cryptosrus  0.356164           73\n",
       "42          22      StackingUSD  0.000000            3"
      ]
     },
     "execution_count": 19,
     "metadata": {},
     "output_type": "execute_result"
    }
   ],
   "source": [
    "user2score"
   ]
  }
 ],
 "metadata": {
  "kernelspec": {
   "display_name": "crypto",
   "language": "python",
   "name": "crypto"
  },
  "language_info": {
   "codemirror_mode": {
    "name": "ipython",
    "version": 3
   },
   "file_extension": ".py",
   "mimetype": "text/x-python",
   "name": "python",
   "nbconvert_exporter": "python",
   "pygments_lexer": "ipython3",
   "version": "3.7.6"
  }
 },
 "nbformat": 4,
 "nbformat_minor": 5
}
