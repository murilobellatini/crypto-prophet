{
 "cells": [
  {
   "cell_type": "code",
   "execution_count": 21,
   "id": "1dc0d434-d25f-48d0-b3a0-13ce7196cdc5",
   "metadata": {},
   "outputs": [
    {
     "data": {
      "text/html": [
       "<div>\n",
       "<style scoped>\n",
       "    .dataframe tbody tr th:only-of-type {\n",
       "        vertical-align: middle;\n",
       "    }\n",
       "\n",
       "    .dataframe tbody tr th {\n",
       "        vertical-align: top;\n",
       "    }\n",
       "\n",
       "    .dataframe thead th {\n",
       "        text-align: right;\n",
       "    }\n",
       "</style>\n",
       "<table border=\"1\" class=\"dataframe\">\n",
       "  <thead>\n",
       "    <tr style=\"text-align: right;\">\n",
       "      <th></th>\n",
       "      <th>0</th>\n",
       "      <th>1</th>\n",
       "      <th>2</th>\n",
       "    </tr>\n",
       "  </thead>\n",
       "  <tbody>\n",
       "    <tr>\n",
       "      <th>date</th>\n",
       "      <td>2019-06-24 00:00:00</td>\n",
       "      <td>2019-06-24 01:00:00</td>\n",
       "      <td>2019-06-24 02:00:00</td>\n",
       "    </tr>\n",
       "    <tr>\n",
       "      <th>volume</th>\n",
       "      <td>0</td>\n",
       "      <td>6.76435e+07</td>\n",
       "      <td>2.48674e+07</td>\n",
       "    </tr>\n",
       "    <tr>\n",
       "      <th>low</th>\n",
       "      <td>10756.3</td>\n",
       "      <td>10559.9</td>\n",
       "      <td>10570.2</td>\n",
       "    </tr>\n",
       "    <tr>\n",
       "      <th>high</th>\n",
       "      <td>10888.3</td>\n",
       "      <td>10852.7</td>\n",
       "      <td>10702</td>\n",
       "    </tr>\n",
       "    <tr>\n",
       "      <th>open</th>\n",
       "      <td>10878.7</td>\n",
       "      <td>10852.7</td>\n",
       "      <td>10652.6</td>\n",
       "    </tr>\n",
       "    <tr>\n",
       "      <th>close</th>\n",
       "      <td>10856.3</td>\n",
       "      <td>10643.3</td>\n",
       "      <td>10649.1</td>\n",
       "    </tr>\n",
       "    <tr>\n",
       "      <th>ma_120_periods</th>\n",
       "      <td>NaN</td>\n",
       "      <td>NaN</td>\n",
       "      <td>NaN</td>\n",
       "    </tr>\n",
       "    <tr>\n",
       "      <th>ma_720_periods</th>\n",
       "      <td>NaN</td>\n",
       "      <td>NaN</td>\n",
       "      <td>NaN</td>\n",
       "    </tr>\n",
       "    <tr>\n",
       "      <th>ma_delta</th>\n",
       "      <td>NaN</td>\n",
       "      <td>NaN</td>\n",
       "      <td>NaN</td>\n",
       "    </tr>\n",
       "    <tr>\n",
       "      <th>ma_delta_norm</th>\n",
       "      <td>NaN</td>\n",
       "      <td>NaN</td>\n",
       "      <td>NaN</td>\n",
       "    </tr>\n",
       "    <tr>\n",
       "      <th>close_change_1periods_perc</th>\n",
       "      <td>-0.01962</td>\n",
       "      <td>0.000543091</td>\n",
       "      <td>0.000138015</td>\n",
       "    </tr>\n",
       "    <tr>\n",
       "      <th>close_change_2periods_perc</th>\n",
       "      <td>-0.0190875</td>\n",
       "      <td>0.00068118</td>\n",
       "      <td>0.00154842</td>\n",
       "    </tr>\n",
       "    <tr>\n",
       "      <th>close_change_6periods_perc</th>\n",
       "      <td>-0.00546315</td>\n",
       "      <td>0.0072703</td>\n",
       "      <td>0.0122245</td>\n",
       "    </tr>\n",
       "    <tr>\n",
       "      <th>close_change_12periods_perc</th>\n",
       "      <td>0.00329302</td>\n",
       "      <td>0.0223681</td>\n",
       "      <td>0.0189509</td>\n",
       "    </tr>\n",
       "    <tr>\n",
       "      <th>close_change_24periods_perc</th>\n",
       "      <td>0.016514</td>\n",
       "      <td>0.0384383</td>\n",
       "      <td>0.0448509</td>\n",
       "    </tr>\n",
       "    <tr>\n",
       "      <th>close_change_48periods_perc</th>\n",
       "      <td>0.0814136</td>\n",
       "      <td>0.119182</td>\n",
       "      <td>0.114574</td>\n",
       "    </tr>\n",
       "    <tr>\n",
       "      <th>close_change_168periods_perc</th>\n",
       "      <td>-0.00794749</td>\n",
       "      <td>0.0348727</td>\n",
       "      <td>0.0238377</td>\n",
       "    </tr>\n",
       "    <tr>\n",
       "      <th>close_change_360periods_perc</th>\n",
       "      <td>0.132687</td>\n",
       "      <td>0.152066</td>\n",
       "      <td>0.177542</td>\n",
       "    </tr>\n",
       "    <tr>\n",
       "      <th>close_change_750periods_perc</th>\n",
       "      <td>-0.0711744</td>\n",
       "      <td>-0.0507672</td>\n",
       "      <td>-0.0538451</td>\n",
       "    </tr>\n",
       "  </tbody>\n",
       "</table>\n",
       "</div>"
      ],
      "text/plain": [
       "                                                0                    1  \\\n",
       "date                          2019-06-24 00:00:00  2019-06-24 01:00:00   \n",
       "volume                                          0          6.76435e+07   \n",
       "low                                       10756.3              10559.9   \n",
       "high                                      10888.3              10852.7   \n",
       "open                                      10878.7              10852.7   \n",
       "close                                     10856.3              10643.3   \n",
       "ma_120_periods                                NaN                  NaN   \n",
       "ma_720_periods                                NaN                  NaN   \n",
       "ma_delta                                      NaN                  NaN   \n",
       "ma_delta_norm                                 NaN                  NaN   \n",
       "close_change_1periods_perc               -0.01962          0.000543091   \n",
       "close_change_2periods_perc             -0.0190875           0.00068118   \n",
       "close_change_6periods_perc            -0.00546315            0.0072703   \n",
       "close_change_12periods_perc            0.00329302            0.0223681   \n",
       "close_change_24periods_perc              0.016514            0.0384383   \n",
       "close_change_48periods_perc             0.0814136             0.119182   \n",
       "close_change_168periods_perc          -0.00794749            0.0348727   \n",
       "close_change_360periods_perc             0.132687             0.152066   \n",
       "close_change_750periods_perc           -0.0711744           -0.0507672   \n",
       "\n",
       "                                                2  \n",
       "date                          2019-06-24 02:00:00  \n",
       "volume                                2.48674e+07  \n",
       "low                                       10570.2  \n",
       "high                                        10702  \n",
       "open                                      10652.6  \n",
       "close                                     10649.1  \n",
       "ma_120_periods                                NaN  \n",
       "ma_720_periods                                NaN  \n",
       "ma_delta                                      NaN  \n",
       "ma_delta_norm                                 NaN  \n",
       "close_change_1periods_perc            0.000138015  \n",
       "close_change_2periods_perc             0.00154842  \n",
       "close_change_6periods_perc              0.0122245  \n",
       "close_change_12periods_perc             0.0189509  \n",
       "close_change_24periods_perc             0.0448509  \n",
       "close_change_48periods_perc              0.114574  \n",
       "close_change_168periods_perc            0.0238377  \n",
       "close_change_360periods_perc             0.177542  \n",
       "close_change_750periods_perc           -0.0538451  "
      ]
     },
     "execution_count": 21,
     "metadata": {},
     "output_type": "execute_result"
    }
   ],
   "source": [
    "# imports modules\n",
    "from src.paths import LOCAL_RAW_DATA_PATH, LOCAL_PROCESSED_DATA_PATH, LOCAL_MODELS_PATH\n",
    "from transformers import pipeline\n",
    "import pandas as pd\n",
    "import xgboost\n",
    "import pickle\n",
    "import pandas_ta as ta\n",
    "\n",
    "# loads data\n",
    "df_path = LOCAL_RAW_DATA_PATH / 'btc-usd.csv'\n",
    "df = pd.read_csv(df_path)\n",
    "df.head(3).T"
   ]
  },
  {
   "cell_type": "code",
   "execution_count": 41,
   "id": "1a9f2740-13b1-4cd8-b330-7aa36f42e94e",
   "metadata": {},
   "outputs": [],
   "source": [
    "from ta.trend import EMAIndicator, SMAIndicator, MACD\n",
    "from ta.momentum import RSIIndicator\n",
    "from ta.volatility import BollingerBands"
   ]
  },
  {
   "cell_type": "code",
   "execution_count": 42,
   "id": "35ba34c7-e609-4a09-b54e-83054864ef2a",
   "metadata": {},
   "outputs": [
    {
     "data": {
      "text/plain": [
       "13       10829.110946\n",
       "14       10832.013471\n",
       "15       10847.514279\n",
       "16       10857.963026\n",
       "17       10881.105326\n",
       "             ...     \n",
       "17230    35748.519551\n",
       "17231    35749.018507\n",
       "17232    35774.250415\n",
       "17233    35771.387859\n",
       "17234    35768.066874\n",
       "Name: ema_14, Length: 17222, dtype: float64"
      ]
     },
     "execution_count": 42,
     "metadata": {},
     "output_type": "execute_result"
    }
   ],
   "source": [
    "x = EMAIndicator(df['close'])\n",
    "x.ema_indicator()"
   ]
  },
  {
   "cell_type": "code",
   "execution_count": 44,
   "id": "5b7ebf78-0720-412b-9444-890ea2785ca1",
   "metadata": {},
   "outputs": [
    {
     "data": {
      "text/plain": [
       "(17235, 19)"
      ]
     },
     "execution_count": 44,
     "metadata": {},
     "output_type": "execute_result"
    }
   ],
   "source": [
    "df.shape"
   ]
  },
  {
   "cell_type": "code",
   "execution_count": 47,
   "id": "8248eac3-bc57-4a20-b49a-3c65d9f68599",
   "metadata": {},
   "outputs": [
    {
     "data": {
      "text/plain": [
       "Timestamp('2021-06-12 23:59:02')"
      ]
     },
     "execution_count": 47,
     "metadata": {},
     "output_type": "execute_result"
    }
   ],
   "source": [
    "pd.to_datetime(df.date).max()"
   ]
  },
  {
   "cell_type": "code",
   "execution_count": 48,
   "id": "ef5ef050-b883-4144-92cc-00c541523abd",
   "metadata": {},
   "outputs": [
    {
     "data": {
      "text/plain": [
       "Timestamp('2019-06-24 00:00:00')"
      ]
     },
     "execution_count": 48,
     "metadata": {},
     "output_type": "execute_result"
    }
   ],
   "source": [
    "pd.to_datetime(df.date).min()"
   ]
  }
 ],
 "metadata": {
  "kernelspec": {
   "display_name": "crypto",
   "language": "python",
   "name": "crypto"
  },
  "language_info": {
   "codemirror_mode": {
    "name": "ipython",
    "version": 3
   },
   "file_extension": ".py",
   "mimetype": "text/x-python",
   "name": "python",
   "nbconvert_exporter": "python",
   "pygments_lexer": "ipython3",
   "version": "3.7.6"
  }
 },
 "nbformat": 4,
 "nbformat_minor": 5
}
