{
 "cells": [
  {
   "cell_type": "code",
   "execution_count": 2,
   "id": "ac939996-2ba8-44b2-be22-022c651cd8f9",
   "metadata": {},
   "outputs": [
    {
     "name": "stderr",
     "output_type": "stream",
     "text": [
      "c:\\users\\muril\\.virtualenvs\\crypto-prophet-ckjwbuny\\lib\\site-packages\\ipykernel_launcher.py:2: TqdmDeprecationWarning: This function will be removed in tqdm==5.0.0\n",
      "Please use `tqdm.notebook.*` instead of `tqdm._tqdm_notebook.*`\n",
      "  \n",
      "100%|██████████████████████████████████████████████████████████████████████████████████| 27/27 [00:17<00:00,  1.54it/s]\n",
      "100%|████████████████████████████████████████████████████████████████████████| 69867/69867 [00:00<00:00, 214176.87it/s]\n",
      "100%|████████████████████████████████████████████████████████████████████████████| 69867/69867 [53:14<00:00, 21.87it/s]\n"
     ]
    },
    {
     "data": {
      "text/plain": [
       "BTC     4097\n",
       "ETH      999\n",
       "LTC      731\n",
       "CAG      284\n",
       "TRX      254\n",
       "        ... \n",
       "ACRE       1\n",
       "DENT       1\n",
       "SYS        1\n",
       "BIS        1\n",
       "HAK        1\n",
       "Name: mentioned_coins, Length: 786, dtype: int64"
      ]
     },
     "execution_count": 2,
     "metadata": {},
     "output_type": "execute_result"
    }
   ],
   "source": [
    "from src.helpers import load_df_tweets, get_mentioned_coins\n",
    "from src.paths import LOCAL_PROCESSED_DATA_PATH\n",
    "\n",
    "from tqdm._tqdm_notebook import tqdm_notebook\n",
    "import numpy as np\n",
    "\n",
    "df = load_df_tweets()\n",
    "df['mentioned_coins'] = df.words.progress_apply(get_mentioned_coins)\n",
    "df['mentioned_coins'].explode().value_counts()"
   ]
  },
  {
   "cell_type": "code",
   "execution_count": 3,
   "id": "70af7a1b-1484-4fe7-b097-31973520111e",
   "metadata": {},
   "outputs": [
    {
     "data": {
      "text/plain": [
       "mentioned_coins  user_screen_name\n",
       "BTC              rogerkver           1222\n",
       "LTC              SatoshiLite          714\n",
       "BTC              BarrySilbert         496\n",
       "                 APompliano           428\n",
       "                 ErikVoorhees         325\n",
       "ETH              VitalikButerin       277\n",
       "BTC              SatoshiLite          265\n",
       "                 aantonop             255\n",
       "TRX              justinsuntron        236\n",
       "BTC              IvanOnTech           196\n",
       "ETH              BarrySilbert         142\n",
       "                 IvanOnTech           129\n",
       "BTC              FEhrsam              123\n",
       "ETH              CryptoCobain         105\n",
       "BTC              KennethBosak         104\n",
       "                 VitalikButerin       100\n",
       "                 girlgone_crypto       98\n",
       "                 TimDraper             97\n",
       "                 CryptoCobain          95\n",
       "USDT             justinsuntron         92\n",
       "dtype: int64"
      ]
     },
     "execution_count": 3,
     "metadata": {},
     "output_type": "execute_result"
    }
   ],
   "source": [
    "df.explode('mentioned_coins').groupby(['mentioned_coins','user_screen_name']).size().sort_values(ascending=False).head(20)"
   ]
  },
  {
   "cell_type": "code",
   "execution_count": 77,
   "id": "8839656a-b608-4231-b2b3-96ad9160db6a",
   "metadata": {},
   "outputs": [],
   "source": [
    "df_path = LOCAL_PROCESSED_DATA_PATH / 'tweets_with_mentioned_coins.json'\n",
    "df.reset_index(drop=True).to_json(df_path, orient='index')"
   ]
  }
 ],
 "metadata": {
  "kernelspec": {
   "display_name": "crypto",
   "language": "python",
   "name": "crypto"
  },
  "language_info": {
   "codemirror_mode": {
    "name": "ipython",
    "version": 3
   },
   "file_extension": ".py",
   "mimetype": "text/x-python",
   "name": "python",
   "nbconvert_exporter": "python",
   "pygments_lexer": "ipython3",
   "version": "3.7.6"
  }
 },
 "nbformat": 4,
 "nbformat_minor": 5
}
