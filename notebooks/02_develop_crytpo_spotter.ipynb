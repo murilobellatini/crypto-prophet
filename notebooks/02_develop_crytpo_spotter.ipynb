{
 "cells": [
  {
   "cell_type": "code",
   "execution_count": null,
   "id": "ac939996-2ba8-44b2-be22-022c651cd8f9",
   "metadata": {},
   "outputs": [
    {
     "name": "stderr",
     "output_type": "stream",
     "text": [
      "c:\\users\\muril\\.virtualenvs\\crypto-prophet-ckjwbuny\\lib\\site-packages\\ipykernel_launcher.py:2: TqdmDeprecationWarning: This function will be removed in tqdm==5.0.0\n",
      "Please use `tqdm.notebook.*` instead of `tqdm._tqdm_notebook.*`\n",
      "  \n",
      "100%|██████████████████████████████████████████████████████████████████████████████████| 27/27 [00:21<00:00,  1.26it/s]\n",
      "100%|████████████████████████████████████████████████████████████████████████| 69867/69867 [00:00<00:00, 165829.31it/s]\n",
      "  1%|▋                                                                           | 667/69867 [00:35<1:03:28, 18.17it/s]"
     ]
    }
   ],
   "source": [
    "from src.helpers import load_df_tweets, get_mentioned_coins\n",
    "from tqdm._tqdm_notebook import tqdm_notebook\n",
    "import numpy as np\n",
    "df = load_df_tweets()\n",
    "df['mentioned_coins'] = df.words.progress_apply(get_mentioned_coins)\n",
    "df['mentioned_coins'].explode().value_counts()"
   ]
  },
  {
   "cell_type": "code",
   "execution_count": null,
   "id": "70af7a1b-1484-4fe7-b097-31973520111e",
   "metadata": {},
   "outputs": [],
   "source": [
    "df.explode('mentioned_coins').groupby(['mentioned_coins','user_screen_name']).size().sort_values(ascending=False).head(20)"
   ]
  }
 ],
 "metadata": {
  "kernelspec": {
   "display_name": "crypto",
   "language": "python",
   "name": "crypto"
  },
  "language_info": {
   "codemirror_mode": {
    "name": "ipython",
    "version": 3
   },
   "file_extension": ".py",
   "mimetype": "text/x-python",
   "name": "python",
   "nbconvert_exporter": "python",
   "pygments_lexer": "ipython3",
   "version": "3.7.6"
  }
 },
 "nbformat": 4,
 "nbformat_minor": 5
}
