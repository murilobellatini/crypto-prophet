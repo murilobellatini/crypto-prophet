{
 "cells": [
  {
   "cell_type": "code",
   "execution_count": 1,
   "id": "ac939996-2ba8-44b2-be22-022c651cd8f9",
   "metadata": {},
   "outputs": [
    {
     "name": "stderr",
     "output_type": "stream",
     "text": [
      "c:\\users\\muril\\.virtualenvs\\crypto-prophet-ckjwbuny\\lib\\site-packages\\ipykernel_launcher.py:4: TqdmDeprecationWarning: This function will be removed in tqdm==5.0.0\n",
      "Please use `tqdm.notebook.*` instead of `tqdm._tqdm_notebook.*`\n",
      "  after removing the cwd from sys.path.\n",
      "100%|██████████████████████████████████████████████████████████████████████████████████████████████████████████████████████████████████████| 33/33 [00:26<00:00,  1.25it/s]\n",
      "100%|████████████████████████████████████████████████████████████████████████████████████████████████████████████████████████████| 90067/90067 [00:00<00:00, 196161.79it/s]\n",
      "100%|██████████████████████████████████████████████████████████████████████████████████████████████████████████████████████████████| 90067/90067 [1:09:38<00:00, 21.56it/s]\n"
     ]
    },
    {
     "data": {
      "text/plain": [
       "BTC    5122\n",
       "ETH    1199\n",
       "LTC     746\n",
       "CAG     334\n",
       "HEY     301\n",
       "       ... \n",
       "MCH       1\n",
       "OGM       1\n",
       "AAA       1\n",
       "MIR       1\n",
       "HDR       1\n",
       "Name: mentioned_coins, Length: 844, dtype: int64"
      ]
     },
     "execution_count": 1,
     "metadata": {},
     "output_type": "execute_result"
    }
   ],
   "source": [
    "from src.helpers import load_df_tweets, get_mentioned_coins\n",
    "from src.paths import LOCAL_PROCESSED_DATA_PATH\n",
    "\n",
    "from tqdm._tqdm_notebook import tqdm_notebook\n",
    "import numpy as np\n",
    "\n",
    "df = load_df_tweets()\n",
    "df['mentioned_coins'] = df.words.progress_apply(get_mentioned_coins)\n",
    "df['mentioned_coins'].explode().value_counts()"
   ]
  },
  {
   "cell_type": "code",
   "execution_count": 2,
   "id": "70af7a1b-1484-4fe7-b097-31973520111e",
   "metadata": {},
   "outputs": [
    {
     "data": {
      "text/plain": [
       "mentioned_coins  user_screen_name\n",
       "BTC              rogerkver           1222\n",
       "LTC              SatoshiLite          725\n",
       "BTC              BarrySilbert         513\n",
       "                 APompliano           474\n",
       "                 danheld              393\n",
       "                 ErikVoorhees         357\n",
       "                 SatoshiLite          279\n",
       "ETH              VitalikButerin       277\n",
       "BTC              aantonop             259\n",
       "TRX              justinsuntron        241\n",
       "BTC              IvanOnTech           221\n",
       "ETH              BarrySilbert         144\n",
       "                 IvanOnTech           136\n",
       "BTC              TheCryptoDog         129\n",
       "                 FEhrsam              123\n",
       "                 KennethBosak         123\n",
       "ETH              CryptoCobain         113\n",
       "BTC              CryptoCobain         110\n",
       "                 girlgone_crypto      109\n",
       "                 Bitboy_Crypto        103\n",
       "dtype: int64"
      ]
     },
     "execution_count": 2,
     "metadata": {},
     "output_type": "execute_result"
    }
   ],
   "source": [
    "df.explode('mentioned_coins').groupby(['mentioned_coins','user_screen_name']).size().sort_values(ascending=False).head(20)"
   ]
  },
  {
   "cell_type": "code",
   "execution_count": 3,
   "id": "8839656a-b608-4231-b2b3-96ad9160db6a",
   "metadata": {},
   "outputs": [],
   "source": [
    "df_path = LOCAL_PROCESSED_DATA_PATH / 'tweets_with_mentioned_coins.json'\n",
    "df.reset_index(drop=True).to_json(df_path, orient='index')"
   ]
  }
 ],
 "metadata": {
  "kernelspec": {
   "display_name": "crypto",
   "language": "python",
   "name": "crypto"
  },
  "language_info": {
   "codemirror_mode": {
    "name": "ipython",
    "version": 3
   },
   "file_extension": ".py",
   "mimetype": "text/x-python",
   "name": "python",
   "nbconvert_exporter": "python",
   "pygments_lexer": "ipython3",
   "version": "3.7.6"
  }
 },
 "nbformat": 4,
 "nbformat_minor": 5
}
