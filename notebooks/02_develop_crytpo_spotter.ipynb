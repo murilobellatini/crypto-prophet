{
 "cells": [
  {
   "cell_type": "markdown",
   "id": "dff213d5-cc02-4bbc-aa55-f82d4be9a899",
   "metadata": {},
   "source": [
    "# CryptoProphet\n",
    "## Notebook's Goal\n",
    "> Identify mentioned coins on tweets (to use as features afterwards)"
   ]
  },
  {
   "cell_type": "code",
   "execution_count": 1,
   "id": "ac939996-2ba8-44b2-be22-022c651cd8f9",
   "metadata": {},
   "outputs": [
    {
     "name": "stderr",
     "output_type": "stream",
     "text": [
      "c:\\users\\muril\\.virtualenvs\\crypto-prophet-ckjwbuny\\lib\\site-packages\\ipykernel_launcher.py:4: TqdmDeprecationWarning: This function will be removed in tqdm==5.0.0\n",
      "Please use `tqdm.notebook.*` instead of `tqdm._tqdm_notebook.*`\n",
      "  after removing the cwd from sys.path.\n",
      "100%|██████████████████████████████████████████████████████████████████████████████████| 47/47 [00:39<00:00,  1.18it/s]\n",
      "100%|██████████████████████████████████████████████████████████████████████| 127642/127642 [00:00<00:00, 203577.43it/s]\n",
      "100%|████████████████████████████████████████████████████████████████████████| 127642/127642 [01:46<00:00, 1201.72it/s]\n"
     ]
    },
    {
     "data": {
      "text/plain": [
       "BTC     7763\n",
       "ETH     2540\n",
       "ADA      997\n",
       "LTC      754\n",
       "USDT     363\n",
       "DOGE     271\n",
       "BNB       34\n",
       "Name: mentioned_coins, dtype: int64"
      ]
     },
     "execution_count": 1,
     "metadata": {},
     "output_type": "execute_result"
    }
   ],
   "source": [
    "# import custom packages\n",
    "from src.helpers import load_df_tweets, get_mentioned_coins\n",
    "from src.paths import LOCAL_PROCESSED_DATA_PATH\n",
    "\n",
    "# import official packages\n",
    "from tqdm._tqdm_notebook import tqdm_notebook\n",
    "import pandas as pd\n",
    "import numpy as np\n",
    "\n",
    "# sets columns width\n",
    "pd.set_option('max_colwidth', 100) \n",
    "\n",
    "# loads tweets\n",
    "df = load_df_tweets()\n",
    "df['mentioned_coins'] = df.words.progress_apply(get_mentioned_coins)\n",
    "df['mentioned_coins'].explode().value_counts()"
   ]
  },
  {
   "cell_type": "code",
   "execution_count": 2,
   "id": "70af7a1b-1484-4fe7-b097-31973520111e",
   "metadata": {},
   "outputs": [
    {
     "data": {
      "text/plain": [
       "mentioned_coins  user_screen_name\n",
       "BTC              rogerkver           1222\n",
       "ETH              ethereum             885\n",
       "ADA              Cardano              824\n",
       "LTC              SatoshiLite          725\n",
       "BTC              BTCFoundation        673\n",
       "                 100trillionUSD       635\n",
       "                 TheMoonCarl          596\n",
       "                 BarrySilbert         513\n",
       "                 APompliano           474\n",
       "                 danheld              393\n",
       "                 ErikVoorhees         357\n",
       "                 SatoshiLite          279\n",
       "ETH              VitalikButerin       277\n",
       "BTC              aantonop             259\n",
       "                 TheCryptoLark        250\n",
       "                 IvanOnTech           221\n",
       "ETH              TheCryptoLark        175\n",
       "                 BarrySilbert         144\n",
       "                 IvanOnTech           136\n",
       "BTC              TheCryptoDog         129\n",
       "dtype: int64"
      ]
     },
     "execution_count": 2,
     "metadata": {},
     "output_type": "execute_result"
    }
   ],
   "source": [
    "# presents coin mentions by influencer\n",
    "df.explode('mentioned_coins').groupby(['mentioned_coins','user_screen_name']).size().sort_values(ascending=False).head(20)"
   ]
  },
  {
   "cell_type": "code",
   "execution_count": 44,
   "id": "0898354f-514a-4c41-b17d-bd57de5b2e4a",
   "metadata": {},
   "outputs": [
    {
     "name": "stdout",
     "output_type": "stream",
     "text": [
      "Tweets with BTC Mentions\n",
      "1645      @CaitlinLong_ Maybe in the US, but non-US can use btc-only exchanges to do cash and carry or cov...\n",
      "115841    RT @saifedean: In the latest Bitcoin standard podcast we host @ToneVays to discuss if trading is...\n",
      "19703     I still go to bed every night wondering if I'm going to wake up the next morning and see bitcoin...\n",
      "110510                                           Bitcoin is retesting the 200-day MA! https://t.co/kpTmD3WpqP\n",
      "110625                                                                           Bitcoin is looking BULLISH 💪\n",
      "Name: full_text, dtype: object\n",
      "====================\n",
      "Tweets with ETH Mentions\n",
      "33859     Currently, 1% of all ETH in circulation is being staked. 1.2m $ETH that is taken out of circulat...\n",
      "61708        Jeffrey Wilcke (obscuren), lead Go Developer for Ethereum at #bitcoinexpo http://t.co/Qsqb9O6gAC\n",
      "60894     Reminder: If you need help with your Ethereum 'pre-sale' wallet, please contact helpdesk@ethereu...\n",
      "124303    RT @AnettRolikova: What does the Ethereum Culture means to you? ✨\\n\\nAnd what would you like to ...\n",
      "61145     Ethereum is gearing up for its go-live! Gantt chart of our security audit process timeline - htt...\n",
      "Name: full_text, dtype: object\n",
      "====================\n",
      "Tweets with DOGE Mentions\n",
      "36271     Those exiting doge newly rich will be desperate for another hit. They want to roll the dice agai...\n",
      "121203    I sent some! https://t.co/mfYrz35zjF\\n\\nYou should too! GiveDirectly is doing great work in dist...\n",
      "97962     Congratulations Shibes!\\n\\nGlad to see Dogecoin doing well. Dogecoin and Litecoin have a symbiot...\n",
      "111952                                                                                          Doge to $1? 😂\n",
      "46951                                                            The average lifespan of a Doge is 6.9 years.\n",
      "Name: full_text, dtype: object\n",
      "====================\n",
      "Tweets with USDT Mentions\n",
      "72427     WHEN IS THAT TETHER NEWS DROPPING TODAY??\\n\\nSomeone explain FAAASTT\\n\\nRT if you also want to k...\n",
      "56400     RT @Tether_to: Tether &amp; @Bitfinex have reached a settlement with @NewYorkStateAG. After 2.5 ...\n",
      "125683    🚨 🚨 🚨 🚨 🚨  53,882,351 #USDT (53,882,351 USD) transferred from Compound Tether to unknown wallet\\...\n",
      "126742    🚨 🚨 🚨 🚨 🚨 🚨  60,000,000 #USDT (60,000,000 USD) transferred from Tether Treasury to #Bitfinex\\n\\n...\n",
      "105763    @realmubaris @JohnLilic @0xPolygon @AaveAave Dawg I want a simple button that says, \"convert you...\n",
      "Name: full_text, dtype: object\n",
      "====================\n",
      "Tweets with ADA Mentions\n",
      "27861    Cardano Summit: TAIPEI 🇹🇼\\n\\nJoin the meetup group to get the invite! \\nhttps://t.co/L3rWK4D0Fc ...\n",
      "30436    Are you in Toronto? Edward is hosting his first Cardano Toronto meetup next week. You can RSVP t...\n",
      "28014    US$500,000,000+ worth of ada is currently delegated to charity-focused initiatives on Cardano. \\...\n",
      "29630    서울에서 다음주 Cardano 커뮤니티 밋업이 열립니다!\\n스테이킹 풀에 관한 내용을 논의하는 자리에서 EMURGO의 PR 담당자 Albert Kim과 일본에서 활동중인 커...\n",
      "28569    SCAM ALERT! There is currently a link being distributed referring to Cardano-event which is not ...\n",
      "Name: full_text, dtype: object\n",
      "====================\n",
      "Tweets with BNB Mentions\n",
      "105819    RT @zhusu: BNB is now an 80x off the bear market range and 20x the prev cycle ATH\\n\\nThe most pr...\n",
      "7904      RT @CryptoTraderPro: Understanding BNB https://t.co/N8KWLd7BZ5 🙋 EARN $50 in $BTC via⟶ https://t...\n",
      "104486                 RT @stockmart_: MATIC looks the same to me as SOL and BNB did towards the end of March\n",
      "71165     RT @IvanOnTech: @alex_fazel @cz_binance @cz_binance SWISSBORG HAS SUPPORTED BNB FOR AGES!! \\n\\nT...\n",
      "105328                                                 @MdAdriel I sold some BNB into BTC if I'm being honest\n",
      "Name: full_text, dtype: object\n",
      "====================\n",
      "Tweets with LTC Mentions\n",
      "100520    @FrothyCrypto @femnezes @buduchan @ArminVanBitcoin With submarine swaps, LTC is still the easies...\n",
      "99690     RT @LTCFoundation: Hey #LitecoinFam. We know you're eager to see how Litecoin can become even st...\n",
      "100023    @ChicoCrypto @infomonger @RoadtoRoota I don't know the details. My guess is that Bitcoin fees ha...\n",
      "100430    RT @APompliano: You can now buy Bitcoin, Ethereum, and Litecoin on Yahoo Finance.\\n\\nTHE VIRUS I...\n",
      "100350    RT @LTCFoundation: Miss @SatoshiLite's keynote at the 2018 Litecoin Summit? Watch it here: https...\n",
      "Name: full_text, dtype: object\n",
      "====================\n"
     ]
    }
   ],
   "source": [
    "# checks classification results\n",
    "# grab unique coins\n",
    "coins = df.mentioned_coins.explode().dropna().unique() \n",
    "for c in coins:\n",
    "    mask = df.mentioned_coins.apply(lambda x: c in x)\n",
    "    print(f'Tweets with {c} Mentions')\n",
    "    print(df[mask].full_text.sample(5, random_state=1))\n",
    "    print(20*'=')"
   ]
  },
  {
   "cell_type": "code",
   "execution_count": 3,
   "id": "8839656a-b608-4231-b2b3-96ad9160db6a",
   "metadata": {},
   "outputs": [],
   "source": [
    "# exports data to local path\n",
    "df_path = LOCAL_PROCESSED_DATA_PATH / 'tweets_with_mentioned_coins_20211013.json'\n",
    "df.reset_index(drop=True).to_json(df_path, orient='index')"
   ]
  },
  {
   "cell_type": "markdown",
   "id": "a8eb6c89-2f9d-4bb8-8766-723214133ecf",
   "metadata": {},
   "source": [
    "# Conclusion\n",
    "> Weak classifier spots coins with reasonable accuracy"
   ]
  }
 ],
 "metadata": {
  "kernelspec": {
   "display_name": "crypto",
   "language": "python",
   "name": "crypto"
  },
  "language_info": {
   "codemirror_mode": {
    "name": "ipython",
    "version": 3
   },
   "file_extension": ".py",
   "mimetype": "text/x-python",
   "name": "python",
   "nbconvert_exporter": "python",
   "pygments_lexer": "ipython3",
   "version": "3.7.6"
  }
 },
 "nbformat": 4,
 "nbformat_minor": 5
}
