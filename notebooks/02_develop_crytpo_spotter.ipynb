{
 "cells": [
  {
   "cell_type": "code",
   "execution_count": 1,
   "id": "german-negative",
   "metadata": {},
   "outputs": [],
   "source": [
    "from src.crypto import CryptoCatalog\n",
    "cc = CryptoCatalog()\n"
   ]
  },
  {
   "cell_type": "code",
   "execution_count": 5,
   "id": "hearing-oregon",
   "metadata": {},
   "outputs": [
    {
     "data": {
      "text/plain": [
       "<Coin id:`01coin` symbol:`ZOC` name:`01coin`>"
      ]
     },
     "execution_count": 5,
     "metadata": {},
     "output_type": "execute_result"
    }
   ],
   "source": [
    "cc.coins[0]"
   ]
  },
  {
   "cell_type": "code",
   "execution_count": 2,
   "id": "qualified-payment",
   "metadata": {},
   "outputs": [
    {
     "data": {
      "text/plain": [
       "'C:\\\\Users\\\\muril\\\\.virtualenvs\\\\insta-post-generator-N5ODM5nx\\\\Scripts\\\\python.exe'"
      ]
     },
     "execution_count": 2,
     "metadata": {},
     "output_type": "execute_result"
    }
   ],
   "source": [
    "import sys\n",
    "sys.executable"
   ]
  },
  {
   "cell_type": "code",
   "execution_count": null,
   "id": "sensitive-hurricane",
   "metadata": {},
   "outputs": [],
   "source": []
  }
 ],
 "metadata": {
  "kernelspec": {
   "display_name": "crypto",
   "language": "python",
   "name": "crypto"
  },
  "language_info": {
   "codemirror_mode": {
    "name": "ipython",
    "version": 3
   },
   "file_extension": ".py",
   "mimetype": "text/x-python",
   "name": "python",
   "nbconvert_exporter": "python",
   "pygments_lexer": "ipython3",
   "version": "3.7.6"
  }
 },
 "nbformat": 4,
 "nbformat_minor": 5
}
