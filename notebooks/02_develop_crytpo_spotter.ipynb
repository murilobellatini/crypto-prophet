{
 "cells": [
  {
   "cell_type": "code",
   "execution_count": 1,
   "id": "ac939996-2ba8-44b2-be22-022c651cd8f9",
   "metadata": {},
   "outputs": [
    {
     "name": "stderr",
     "output_type": "stream",
     "text": [
      "c:\\users\\muril\\.virtualenvs\\crypto-prophet-ckjwbuny\\lib\\site-packages\\ipykernel_launcher.py:2: TqdmDeprecationWarning: This function will be removed in tqdm==5.0.0\n",
      "Please use `tqdm.notebook.*` instead of `tqdm._tqdm_notebook.*`\n",
      "  \n",
      "100%|██████████████████████████████████████████████████████████████████████████████████| 27/27 [00:21<00:00,  1.26it/s]\n",
      "100%|████████████████████████████████████████████████████████████████████████| 69867/69867 [00:00<00:00, 165829.31it/s]\n",
      "100%|██████████████████████████████████████████████████████████████████████████| 69867/69867 [1:01:10<00:00, 19.03it/s]\n"
     ]
    },
    {
     "data": {
      "text/plain": [
       "BTC      977\n",
       "$$$      788\n",
       "BRO      342\n",
       "CAG      271\n",
       "ETH      222\n",
       "        ... \n",
       "SUMO       1\n",
       "CREDO      1\n",
       "DOS        1\n",
       "SYNX       1\n",
       "AUS        1\n",
       "Name: mentioned_coins, Length: 465, dtype: int64"
      ]
     },
     "execution_count": 1,
     "metadata": {},
     "output_type": "execute_result"
    }
   ],
   "source": [
    "from src.helpers import load_df_tweets, get_mentioned_coins\n",
    "from tqdm._tqdm_notebook import tqdm_notebook\n",
    "import numpy as np\n",
    "df = load_df_tweets()\n",
    "df['mentioned_coins'] = df.words.progress_apply(get_mentioned_coins)\n",
    "df['mentioned_coins'].explode().value_counts()"
   ]
  },
  {
   "cell_type": "code",
   "execution_count": 2,
   "id": "70af7a1b-1484-4fe7-b097-31973520111e",
   "metadata": {},
   "outputs": [
    {
     "data": {
      "text/plain": [
       "mentioned_coins  user_screen_name\n",
       "BRO              KennethBosak        280\n",
       "BTC              BarrySilbert        225\n",
       "                 APompliano          220\n",
       "ETH              VitalikButerin      131\n",
       "BTC              rogerkver           122\n",
       "$$$              ErikVoorhees        122\n",
       "                 rogerkver            90\n",
       "                 aantonop             85\n",
       "BTC              aantonop             72\n",
       "                 CryptoCobain         65\n",
       "$$$              APompliano           63\n",
       "                 SatoshiLite          61\n",
       "BTC              girlgone_crypto      59\n",
       "$$$              ToneVays             54\n",
       "ETH              CryptoCobain         53\n",
       "REL              justinsuntron        53\n",
       "OIO              justinsuntron        51\n",
       "CAG              aantonop             43\n",
       "EGCC             elonmusk             42\n",
       "BTC              VitalikButerin       42\n",
       "dtype: int64"
      ]
     },
     "execution_count": 2,
     "metadata": {},
     "output_type": "execute_result"
    }
   ],
   "source": [
    "df.explode('mentioned_coins').groupby(['mentioned_coins','user_screen_name']).size().sort_values(ascending=False).head(20)"
   ]
  },
  {
   "cell_type": "code",
   "execution_count": 3,
   "id": "8839656a-b608-4231-b2b3-96ad9160db6a",
   "metadata": {},
   "outputs": [
    {
     "data": {
      "text/plain": [
       "BTC     977\n",
       "$$$     788\n",
       "BRO     342\n",
       "CAG     271\n",
       "ETH     222\n",
       "OIO     171\n",
       "ZER     139\n",
       "REL     137\n",
       "V       128\n",
       "PF      124\n",
       "ART     117\n",
       "SEN      85\n",
       "THO      78\n",
       "GIVE     78\n",
       "RCD      71\n",
       "SNT      66\n",
       "EGCC     61\n",
       "HNST     61\n",
       "CNCT     58\n",
       "PRPS     55\n",
       "ABS      55\n",
       "TX       53\n",
       "ACT      51\n",
       "INSN     50\n",
       "AT       48\n",
       "R        48\n",
       "GIC      47\n",
       "SH       47\n",
       "WOW      46\n",
       "PPL      44\n",
       "Name: mentioned_coins, dtype: int64"
      ]
     },
     "execution_count": 3,
     "metadata": {},
     "output_type": "execute_result"
    }
   ],
   "source": [
    "df['mentioned_coins'].explode().value_counts().head(30)"
   ]
  },
  {
   "cell_type": "code",
   "execution_count": null,
   "id": "ada39b0e-e91e-4ac2-89f6-cb6e17f1ea74",
   "metadata": {},
   "outputs": [],
   "source": [
    "from src.crypto import CryptoCatalog\n",
    "cc = CryptoCatalog()\n",
    "[(k,v) for k,v in cc.coin2symbol_norm.items() if v.lower() in ('at')]"
   ]
  },
  {
   "cell_type": "code",
   "execution_count": null,
   "id": "c715a3c1-1ed3-4ef4-82fe-fadb95830485",
   "metadata": {},
   "outputs": [],
   "source": [
    "mask = df.mentioned_coins.apply(lambda x: '$$$' in x)\n",
    "get_mentioned_coins(df[mask].iloc[3].words)"
   ]
  }
 ],
 "metadata": {
  "kernelspec": {
   "display_name": "crypto",
   "language": "python",
   "name": "crypto"
  },
  "language_info": {
   "codemirror_mode": {
    "name": "ipython",
    "version": 3
   },
   "file_extension": ".py",
   "mimetype": "text/x-python",
   "name": "python",
   "nbconvert_exporter": "python",
   "pygments_lexer": "ipython3",
   "version": "3.7.6"
  }
 },
 "nbformat": 4,
 "nbformat_minor": 5
}
