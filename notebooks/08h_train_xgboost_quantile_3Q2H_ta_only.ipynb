{
 "cells": [
  {
   "cell_type": "code",
   "execution_count": 39,
   "id": "c3f4bfef-ba9d-4bf7-8064-25de54cce75e",
   "metadata": {},
   "outputs": [],
   "source": [
    "from src.paths import LOCAL_RAW_DATA_PATH, LOCAL_PROCESSED_DATA_PATH, LOCAL_MODELS_PATH\n",
    "\n",
    "\n",
    "from sklearn.model_selection import GridSearchCV, cross_val_score, KFold, train_test_split\n",
    "from sklearn.metrics import mean_squared_error, mean_absolute_error\n",
    "from sklearn.preprocessing import LabelEncoder\n",
    "from tqdm._tqdm_notebook import tqdm_notebook\n",
    "from collections import OrderedDict\n",
    "from xgboost import plot_importance\n",
    "import matplotlib.pyplot as plt \n",
    "from scipy.stats import skew\n",
    "import missingno as msno\n",
    "import pandas as pd\n",
    "import xgboost\n",
    "import pickle\n",
    "\n",
    "\n",
    "tqdm_notebook.pandas()\n",
    "\n",
    "seed = 42\n",
    "\n",
    "df_path = LOCAL_PROCESSED_DATA_PATH / 'pretrain_dataset_20211013_ta.pkl'\n",
    "df = pd.read_pickle(df_path).dropna()\n",
    "tgt_vars = [c for c in df.columns if '_change_' in str(c) and not  'previous' in str(c) ]\n",
    "\n",
    "drop_cols = ['created_at', 'created_at_trunc_h', 'id_str',\n",
    "             'full_text', 'user_screen_name',\n",
    "             'ma_120_periods', 'ma_720_periods'] + tgt_vars\n",
    "\n",
    "X_cols = [c for c in df.columns if c not in drop_cols]"
   ]
  },
  {
   "cell_type": "code",
   "execution_count": 40,
   "id": "89f8dd87-1ce1-44bf-bcba-1227474336e1",
   "metadata": {},
   "outputs": [
    {
     "data": {
      "text/plain": [
       "{Interval(-0.136, -0.00253, closed='right'): 'Q1_DECREASE',\n",
       " Interval(-0.00253, 0.0031, closed='right'): 'Q2_NEUTRAL',\n",
       " Interval(0.0031, 0.146, closed='right'): 'Q3_INCREASE'}"
      ]
     },
     "execution_count": 40,
     "metadata": {},
     "output_type": "execute_result"
    }
   ],
   "source": [
    "df['close_change_2periods_perc_3Q'] = pd.qcut(df['close_change_2periods_perc'], q=3)\n",
    "cc1pp3Q_to_hr = {}\n",
    "scale = ['DECREASE', 'NEUTRAL', 'INCREASE']\n",
    "for i, v in enumerate(df['close_change_2periods_perc_3Q'].unique().sort_values()):\n",
    "    cc1pp3Q_to_hr[v] = f'Q{i+1}_{scale[i]}' \n",
    "cc1pp3Q_to_hr"
   ]
  },
  {
   "cell_type": "code",
   "execution_count": 41,
   "id": "e572609c-5fad-4de8-a885-3c055ec4ec42",
   "metadata": {},
   "outputs": [],
   "source": [
    "df['close_change_2periods_perc_3Q_HR'] = df['close_change_2periods_perc_3Q'].map(cc1pp3Q_to_hr)"
   ]
  },
  {
   "cell_type": "code",
   "execution_count": 42,
   "id": "fd56d53f-233a-4483-a63f-5dc9c05d1eb2",
   "metadata": {},
   "outputs": [
    {
     "data": {
      "text/plain": [
       "Index([                         'created_at',\n",
       "                        'created_at_trunc_h',\n",
       "                                    'id_str',\n",
       "                                 'full_text',\n",
       "                             'retweet_count',\n",
       "                            'favorite_count',\n",
       "                          'user_screen_name',\n",
       "                                 'user_feat',\n",
       "                                       'BTC',\n",
       "                                      'DOGE',\n",
       "                                       'ETH',\n",
       "                                       'LTC',\n",
       "                                      'USDT',\n",
       "                                       'ADA',\n",
       "                                    'volume',\n",
       "                                     'close',\n",
       "                            'ma_120_periods',\n",
       "                            'ma_720_periods',\n",
       "                'close_change_1periods_perc',\n",
       "                'close_change_2periods_perc',\n",
       "                'close_change_6periods_perc',\n",
       "               'close_change_12periods_perc',\n",
       "               'close_change_24periods_perc',\n",
       "               'close_change_48periods_perc',\n",
       "              'close_change_168periods_perc',\n",
       "              'close_change_360periods_perc',\n",
       "              'close_change_750periods_perc',\n",
       "       'close_change_previous24periods_perc',\n",
       "       'close_change_previous12periods_perc',\n",
       "        'close_change_previous6periods_perc',\n",
       "        'close_change_previous2periods_perc',\n",
       "        'close_change_previous1periods_perc',\n",
       "                              'day_of_month',\n",
       "                                        'up',\n",
       "                                      'down',\n",
       "                                       'RSI',\n",
       "                                       'MSA',\n",
       "                                       'EMA',\n",
       "                                           0,\n",
       "                                           1],\n",
       "      dtype='object')"
      ]
     },
     "execution_count": 42,
     "metadata": {},
     "output_type": "execute_result"
    }
   ],
   "source": [
    "# prints top 30 features (without text embeddings)\n",
    "df.columns[:40]"
   ]
  },
  {
   "cell_type": "code",
   "execution_count": 43,
   "id": "9907e52a-f862-4f9e-9747-cc772bbd16a4",
   "metadata": {},
   "outputs": [
    {
     "data": {
      "text/plain": [
       "['retweet_count',\n",
       " 'favorite_count',\n",
       " 'user_feat',\n",
       " 'BTC',\n",
       " 'DOGE',\n",
       " 'ETH',\n",
       " 'LTC',\n",
       " 'USDT',\n",
       " 'ADA',\n",
       " 'volume',\n",
       " 'close',\n",
       " 'close_change_previous24periods_perc',\n",
       " 'close_change_previous12periods_perc',\n",
       " 'close_change_previous6periods_perc',\n",
       " 'close_change_previous2periods_perc',\n",
       " 'close_change_previous1periods_perc',\n",
       " 'day_of_month',\n",
       " 'up',\n",
       " 'down',\n",
       " 'RSI',\n",
       " 'MSA',\n",
       " 'EMA']"
      ]
     },
     "execution_count": 43,
     "metadata": {},
     "output_type": "execute_result"
    }
   ],
   "source": [
    "# drop columns with Text Embeddings\n",
    "X_cols = [c for c in X_cols if not isinstance(c, int)]\n",
    "X_cols"
   ]
  },
  {
   "cell_type": "code",
   "execution_count": 44,
   "id": "45abf28d-3f70-48e8-a5cd-4ceda01b919e",
   "metadata": {},
   "outputs": [],
   "source": [
    "X = df[X_cols]\n",
    "y = df['close_change_2periods_perc_3Q_HR']"
   ]
  },
  {
   "cell_type": "code",
   "execution_count": 45,
   "id": "12d33130-db92-47b0-b8e1-597ac9405dcc",
   "metadata": {},
   "outputs": [
    {
     "data": {
      "text/plain": [
       "(0, 0)"
      ]
     },
     "execution_count": 45,
     "metadata": {},
     "output_type": "execute_result"
    }
   ],
   "source": [
    "X.isna().sum().sum(), y.isna().sum()"
   ]
  },
  {
   "cell_type": "code",
   "execution_count": 46,
   "id": "b2997dc3-bd21-4d40-b629-302fc3b4d689",
   "metadata": {},
   "outputs": [],
   "source": [
    "X_train, X_test, y_train, y_test = train_test_split(X, y, test_size=0.20, random_state=seed)"
   ]
  },
  {
   "cell_type": "code",
   "execution_count": 47,
   "id": "08d44a7c-c366-40a9-9fba-c459341ec020",
   "metadata": {},
   "outputs": [
    {
     "name": "stdout",
     "output_type": "stream",
     "text": [
      "(61888, 22) (15472, 22)\n",
      "(61888,) (15472,)\n"
     ]
    },
    {
     "data": {
      "text/plain": [
       "True"
      ]
     },
     "execution_count": 47,
     "metadata": {},
     "output_type": "execute_result"
    }
   ],
   "source": [
    "print(X_train.shape,  X_test.shape)\n",
    "print(y_train.shape,  y_test.shape)\n",
    "df.shape[0] == X_train.shape[0] + X_test.shape[0] "
   ]
  },
  {
   "cell_type": "code",
   "execution_count": 48,
   "id": "9fced42c-4379-41fc-91b7-124053b2a51b",
   "metadata": {},
   "outputs": [],
   "source": [
    "# xgboost.XGBClassifier\n",
    "# xgboost.XGBRFClassifier"
   ]
  },
  {
   "cell_type": "code",
   "execution_count": null,
   "id": "1b6037d6-dd72-42e9-ac89-a682c214f5f3",
   "metadata": {},
   "outputs": [],
   "source": []
  },
  {
   "cell_type": "code",
   "execution_count": 49,
   "id": "87634de9-16b9-4a38-8707-de5936763363",
   "metadata": {},
   "outputs": [
    {
     "name": "stderr",
     "output_type": "stream",
     "text": [
      "c:\\users\\muril\\.virtualenvs\\crypto-prophet-ckjwbuny\\lib\\site-packages\\xgboost\\sklearn.py:1146: UserWarning: The use of label encoder in XGBClassifier is deprecated and will be removed in a future release. To remove this warning, do the following: 1) Pass option use_label_encoder=False when constructing XGBClassifier object; and 2) Encode your labels (y) as integers starting with 0, i.e. 0, 1, 2, ..., [num_class - 1].\n",
      "  warnings.warn(label_encoder_deprecation_msg, UserWarning)\n"
     ]
    },
    {
     "name": "stdout",
     "output_type": "stream",
     "text": [
      "[01:58:39] WARNING: C:/Users/Administrator/workspace/xgboost-win64_release_1.4.0/src/learner.cc:1095: Starting in XGBoost 1.3.0, the default evaluation metric used with the objective 'multi:softprob' was changed from 'merror' to 'mlogloss'. Explicitly set eval_metric if you'd like to restore the old behavior.\n",
      "Wall time: 1min 37s\n"
     ]
    },
    {
     "data": {
      "text/plain": [
       "XGBRFClassifier(base_score=0.5, booster='gbtree', colsample_bylevel=1,\n",
       "                colsample_bytree=0.8, gamma=0, gpu_id=-1,\n",
       "                importance_type='gain', interaction_constraints='',\n",
       "                learning_rate=0.01, max_delta_step=0, max_depth=5,\n",
       "                min_child_weight=1.5, missing=nan, monotone_constraints='()',\n",
       "                n_estimators=1200, n_jobs=8, num_parallel_tree=1200,\n",
       "                objective='multi:softprob', random_state=42, reg_alpha=0.75,\n",
       "                reg_lambda=0.45, scale_pos_weight=None, seed=42, subsample=0.9,\n",
       "                tree_method='exact', validate_parameters=1, verbosity=None)"
      ]
     },
     "execution_count": 49,
     "metadata": {},
     "output_type": "execute_result"
    }
   ],
   "source": [
    "xgboost.set_config(**{'use_rmm': False, 'verbosity': 1})\n",
    "\n",
    "model = xgboost.XGBRFClassifier(**{\n",
    "    'colsample_bytree': 0.8,\n",
    "    'gamma': 0,\n",
    "    'learning_rate': 0.01,\n",
    "    'max_depth': 5,\n",
    "    'min_child_weight': 1.5,\n",
    "    'n_estimators': 1200,\n",
    "    'reg_alpha': 0.75,\n",
    "    'reg_lambda': 0.45,\n",
    "    'seed': seed,\n",
    "    'subsample': 0.9\n",
    "}) \n",
    "\n",
    "\n",
    "%time model.fit(X_train,y_train)"
   ]
  },
  {
   "cell_type": "code",
   "execution_count": 50,
   "id": "db81972b",
   "metadata": {},
   "outputs": [],
   "source": [
    "with open(LOCAL_MODELS_PATH / 'xgboost_20211014_XGBRFClassifier_3Q2H_ta_only.pkl', mode='wb') as fp:\n",
    "    pickle.dump(model, fp)"
   ]
  },
  {
   "cell_type": "code",
   "execution_count": 51,
   "id": "8408b167-2f44-4100-8cea-adc09004d62f",
   "metadata": {},
   "outputs": [
    {
     "data": {
      "text/plain": [
       "0.5331954498448811"
      ]
     },
     "execution_count": 51,
     "metadata": {},
     "output_type": "execute_result"
    }
   ],
   "source": [
    "from sklearn.metrics import accuracy_score\n",
    "accuracy_score(y, model.predict(X))"
   ]
  },
  {
   "cell_type": "code",
   "execution_count": 52,
   "id": "396514b8-eca3-4118-a210-e796d3968f37",
   "metadata": {},
   "outputs": [
    {
     "data": {
      "text/plain": [
       "0.5222337125129266"
      ]
     },
     "execution_count": 52,
     "metadata": {},
     "output_type": "execute_result"
    }
   ],
   "source": [
    "accuracy_score(y_test, model.predict(X_test))"
   ]
  },
  {
   "cell_type": "code",
   "execution_count": 53,
   "id": "e145d929-cf68-4c80-9460-58d365f73c33",
   "metadata": {},
   "outputs": [
    {
     "data": {
      "text/plain": [
       "<sklearn.metrics._plot.confusion_matrix.ConfusionMatrixDisplay at 0x15d8ae5b788>"
      ]
     },
     "execution_count": 53,
     "metadata": {},
     "output_type": "execute_result"
    },
    {
     "data": {
      "image/png": "[encoded data removed]",
      "text/plain": [
       "<Figure size 432x288 with 2 Axes>"
      ]
     },
     "metadata": {
      "needs_background": "light"
     },
     "output_type": "display_data"
    }
   ],
   "source": [
    "from sklearn.metrics import plot_confusion_matrix\n",
    "plot_confusion_matrix(model, X_test, y_test)  "
   ]
  },
  {
   "cell_type": "code",
   "execution_count": 54,
   "id": "0efd15b3-821e-43ab-8b09-dc3fd73ce242",
   "metadata": {},
   "outputs": [],
   "source": [
    "user2score = []\n",
    "for u in X_train.user_feat.unique():\n",
    "    mask = X.user_feat == u\n",
    "    user_screen_name = user_le.inverse_transform([u])[0]\n",
    "    stats ={\n",
    "        'user_label': u,\n",
    "        'user_screen_name': user_screen_name,\n",
    "        'accuracy': model.score(X[mask], y[mask]),\n",
    "        'tweet_count': mask.sum()}\n",
    "    user2score.append(stats)\n",
    "user2score = pd.DataFrame(user2score).sort_values('accuracy', ascending=False)"
   ]
  },
  {
   "cell_type": "code",
   "execution_count": 55,
   "id": "caa10efe-3f7c-4c3e-9c8e-8ead316be6ac",
   "metadata": {},
   "outputs": [
    {
     "data": {
      "text/html": [
       "<div>\n",
       "<style scoped>\n",
       "    .dataframe tbody tr th:only-of-type {\n",
       "        vertical-align: middle;\n",
       "    }\n",
       "\n",
       "    .dataframe tbody tr th {\n",
       "        vertical-align: top;\n",
       "    }\n",
       "\n",
       "    .dataframe thead th {\n",
       "        text-align: right;\n",
       "    }\n",
       "</style>\n",
       "<table border=\"1\" class=\"dataframe\">\n",
       "  <thead>\n",
       "    <tr style=\"text-align: right;\">\n",
       "      <th></th>\n",
       "      <th>user_label</th>\n",
       "      <th>user_screen_name</th>\n",
       "      <th>accuracy</th>\n",
       "      <th>tweet_count</th>\n",
       "    </tr>\n",
       "  </thead>\n",
       "  <tbody>\n",
       "    <tr>\n",
       "      <th>2</th>\n",
       "      <td>41</td>\n",
       "      <td>officialmcafee</td>\n",
       "      <td>0.647848</td>\n",
       "      <td>3206</td>\n",
       "    </tr>\n",
       "    <tr>\n",
       "      <th>25</th>\n",
       "      <td>23</td>\n",
       "      <td>TheCryptoDog</td>\n",
       "      <td>0.603291</td>\n",
       "      <td>2309</td>\n",
       "    </tr>\n",
       "    <tr>\n",
       "      <th>16</th>\n",
       "      <td>16</td>\n",
       "      <td>KennethBosak</td>\n",
       "      <td>0.590769</td>\n",
       "      <td>3250</td>\n",
       "    </tr>\n",
       "    <tr>\n",
       "      <th>26</th>\n",
       "      <td>14</td>\n",
       "      <td>FEhrsam</td>\n",
       "      <td>0.587859</td>\n",
       "      <td>313</td>\n",
       "    </tr>\n",
       "    <tr>\n",
       "      <th>22</th>\n",
       "      <td>34</td>\n",
       "      <td>davidgokhshtein</td>\n",
       "      <td>0.580308</td>\n",
       "      <td>3250</td>\n",
       "    </tr>\n",
       "    <tr>\n",
       "      <th>14</th>\n",
       "      <td>35</td>\n",
       "      <td>elonmusk</td>\n",
       "      <td>0.567397</td>\n",
       "      <td>3012</td>\n",
       "    </tr>\n",
       "    <tr>\n",
       "      <th>1</th>\n",
       "      <td>40</td>\n",
       "      <td>mysticaloaks</td>\n",
       "      <td>0.566154</td>\n",
       "      <td>3250</td>\n",
       "    </tr>\n",
       "    <tr>\n",
       "      <th>31</th>\n",
       "      <td>19</td>\n",
       "      <td>PeterMcCormack</td>\n",
       "      <td>0.565032</td>\n",
       "      <td>938</td>\n",
       "    </tr>\n",
       "    <tr>\n",
       "      <th>11</th>\n",
       "      <td>10</td>\n",
       "      <td>CryptoWendyO</td>\n",
       "      <td>0.561496</td>\n",
       "      <td>3236</td>\n",
       "    </tr>\n",
       "    <tr>\n",
       "      <th>21</th>\n",
       "      <td>15</td>\n",
       "      <td>IvanOnTech</td>\n",
       "      <td>0.558567</td>\n",
       "      <td>3210</td>\n",
       "    </tr>\n",
       "    <tr>\n",
       "      <th>17</th>\n",
       "      <td>9</td>\n",
       "      <td>CryptoEuclid</td>\n",
       "      <td>0.555622</td>\n",
       "      <td>3326</td>\n",
       "    </tr>\n",
       "    <tr>\n",
       "      <th>4</th>\n",
       "      <td>28</td>\n",
       "      <td>VitalikButerin</td>\n",
       "      <td>0.553532</td>\n",
       "      <td>3185</td>\n",
       "    </tr>\n",
       "    <tr>\n",
       "      <th>9</th>\n",
       "      <td>31</td>\n",
       "      <td>brian_armstrong</td>\n",
       "      <td>0.553506</td>\n",
       "      <td>271</td>\n",
       "    </tr>\n",
       "    <tr>\n",
       "      <th>10</th>\n",
       "      <td>1</td>\n",
       "      <td>APompliano</td>\n",
       "      <td>0.539243</td>\n",
       "      <td>3249</td>\n",
       "    </tr>\n",
       "    <tr>\n",
       "      <th>0</th>\n",
       "      <td>8</td>\n",
       "      <td>CryptoCobain</td>\n",
       "      <td>0.537750</td>\n",
       "      <td>3245</td>\n",
       "    </tr>\n",
       "    <tr>\n",
       "      <th>28</th>\n",
       "      <td>33</td>\n",
       "      <td>danheld</td>\n",
       "      <td>0.527342</td>\n",
       "      <td>1847</td>\n",
       "    </tr>\n",
       "    <tr>\n",
       "      <th>29</th>\n",
       "      <td>5</td>\n",
       "      <td>Cardano</td>\n",
       "      <td>0.523906</td>\n",
       "      <td>1966</td>\n",
       "    </tr>\n",
       "    <tr>\n",
       "      <th>8</th>\n",
       "      <td>32</td>\n",
       "      <td>coinbureau</td>\n",
       "      <td>0.522981</td>\n",
       "      <td>2241</td>\n",
       "    </tr>\n",
       "    <tr>\n",
       "      <th>23</th>\n",
       "      <td>20</td>\n",
       "      <td>SatoshiLite</td>\n",
       "      <td>0.515873</td>\n",
       "      <td>2016</td>\n",
       "    </tr>\n",
       "    <tr>\n",
       "      <th>7</th>\n",
       "      <td>4</td>\n",
       "      <td>Bitboy_Crypto</td>\n",
       "      <td>0.514506</td>\n",
       "      <td>2723</td>\n",
       "    </tr>\n",
       "    <tr>\n",
       "      <th>12</th>\n",
       "      <td>39</td>\n",
       "      <td>justinsuntron</td>\n",
       "      <td>0.513724</td>\n",
       "      <td>3206</td>\n",
       "    </tr>\n",
       "    <tr>\n",
       "      <th>27</th>\n",
       "      <td>0</td>\n",
       "      <td>100trillionUSD</td>\n",
       "      <td>0.513265</td>\n",
       "      <td>1960</td>\n",
       "    </tr>\n",
       "    <tr>\n",
       "      <th>35</th>\n",
       "      <td>36</td>\n",
       "      <td>ethereum</td>\n",
       "      <td>0.512397</td>\n",
       "      <td>847</td>\n",
       "    </tr>\n",
       "    <tr>\n",
       "      <th>3</th>\n",
       "      <td>42</td>\n",
       "      <td>rogerkver</td>\n",
       "      <td>0.509982</td>\n",
       "      <td>551</td>\n",
       "    </tr>\n",
       "    <tr>\n",
       "      <th>36</th>\n",
       "      <td>6</td>\n",
       "      <td>Coinbound_io</td>\n",
       "      <td>0.505924</td>\n",
       "      <td>844</td>\n",
       "    </tr>\n",
       "    <tr>\n",
       "      <th>15</th>\n",
       "      <td>21</td>\n",
       "      <td>StackerSatoshi</td>\n",
       "      <td>0.504755</td>\n",
       "      <td>1367</td>\n",
       "    </tr>\n",
       "    <tr>\n",
       "      <th>38</th>\n",
       "      <td>18</td>\n",
       "      <td>Maxwell_Maher</td>\n",
       "      <td>0.500000</td>\n",
       "      <td>8</td>\n",
       "    </tr>\n",
       "    <tr>\n",
       "      <th>6</th>\n",
       "      <td>12</td>\n",
       "      <td>ErikVoorhees</td>\n",
       "      <td>0.499230</td>\n",
       "      <td>3247</td>\n",
       "    </tr>\n",
       "    <tr>\n",
       "      <th>30</th>\n",
       "      <td>25</td>\n",
       "      <td>TimDraper</td>\n",
       "      <td>0.499062</td>\n",
       "      <td>533</td>\n",
       "    </tr>\n",
       "    <tr>\n",
       "      <th>34</th>\n",
       "      <td>30</td>\n",
       "      <td>bhorowitz</td>\n",
       "      <td>0.497132</td>\n",
       "      <td>523</td>\n",
       "    </tr>\n",
       "    <tr>\n",
       "      <th>24</th>\n",
       "      <td>3</td>\n",
       "      <td>BarrySilbert</td>\n",
       "      <td>0.496850</td>\n",
       "      <td>1111</td>\n",
       "    </tr>\n",
       "    <tr>\n",
       "      <th>18</th>\n",
       "      <td>26</td>\n",
       "      <td>ToneVays</td>\n",
       "      <td>0.488121</td>\n",
       "      <td>3241</td>\n",
       "    </tr>\n",
       "    <tr>\n",
       "      <th>13</th>\n",
       "      <td>24</td>\n",
       "      <td>TheMoonCarl</td>\n",
       "      <td>0.477987</td>\n",
       "      <td>795</td>\n",
       "    </tr>\n",
       "    <tr>\n",
       "      <th>33</th>\n",
       "      <td>13</td>\n",
       "      <td>EuclidAndOaks</td>\n",
       "      <td>0.477509</td>\n",
       "      <td>289</td>\n",
       "    </tr>\n",
       "    <tr>\n",
       "      <th>20</th>\n",
       "      <td>27</td>\n",
       "      <td>TyDanielSmith</td>\n",
       "      <td>0.465061</td>\n",
       "      <td>2118</td>\n",
       "    </tr>\n",
       "    <tr>\n",
       "      <th>37</th>\n",
       "      <td>38</td>\n",
       "      <td>intocryptoverse</td>\n",
       "      <td>0.447917</td>\n",
       "      <td>96</td>\n",
       "    </tr>\n",
       "    <tr>\n",
       "      <th>19</th>\n",
       "      <td>37</td>\n",
       "      <td>girlgone_crypto</td>\n",
       "      <td>0.446736</td>\n",
       "      <td>3248</td>\n",
       "    </tr>\n",
       "    <tr>\n",
       "      <th>5</th>\n",
       "      <td>29</td>\n",
       "      <td>aantonop</td>\n",
       "      <td>0.437864</td>\n",
       "      <td>3259</td>\n",
       "    </tr>\n",
       "    <tr>\n",
       "      <th>32</th>\n",
       "      <td>11</td>\n",
       "      <td>Cryptosrus</td>\n",
       "      <td>0.426471</td>\n",
       "      <td>68</td>\n",
       "    </tr>\n",
       "    <tr>\n",
       "      <th>39</th>\n",
       "      <td>22</td>\n",
       "      <td>StackingUSD</td>\n",
       "      <td>0.333333</td>\n",
       "      <td>3</td>\n",
       "    </tr>\n",
       "  </tbody>\n",
       "</table>\n",
       "</div>"
      ],
      "text/plain": [
       "    user_label user_screen_name  accuracy  tweet_count\n",
       "2           41   officialmcafee  0.647848         3206\n",
       "25          23     TheCryptoDog  0.603291         2309\n",
       "16          16     KennethBosak  0.590769         3250\n",
       "26          14          FEhrsam  0.587859          313\n",
       "22          34  davidgokhshtein  0.580308         3250\n",
       "14          35         elonmusk  0.567397         3012\n",
       "1           40     mysticaloaks  0.566154         3250\n",
       "31          19   PeterMcCormack  0.565032          938\n",
       "11          10     CryptoWendyO  0.561496         3236\n",
       "21          15       IvanOnTech  0.558567         3210\n",
       "17           9     CryptoEuclid  0.555622         3326\n",
       "4           28   VitalikButerin  0.553532         3185\n",
       "9           31  brian_armstrong  0.553506          271\n",
       "10           1       APompliano  0.539243         3249\n",
       "0            8     CryptoCobain  0.537750         3245\n",
       "28          33          danheld  0.527342         1847\n",
       "29           5          Cardano  0.523906         1966\n",
       "8           32       coinbureau  0.522981         2241\n",
       "23          20      SatoshiLite  0.515873         2016\n",
       "7            4    Bitboy_Crypto  0.514506         2723\n",
       "12          39    justinsuntron  0.513724         3206\n",
       "27           0   100trillionUSD  0.513265         1960\n",
       "35          36         ethereum  0.512397          847\n",
       "3           42        rogerkver  0.509982          551\n",
       "36           6     Coinbound_io  0.505924          844\n",
       "15          21   StackerSatoshi  0.504755         1367\n",
       "38          18    Maxwell_Maher  0.500000            8\n",
       "6           12     ErikVoorhees  0.499230         3247\n",
       "30          25        TimDraper  0.499062          533\n",
       "34          30        bhorowitz  0.497132          523\n",
       "24           3     BarrySilbert  0.496850         1111\n",
       "18          26         ToneVays  0.488121         3241\n",
       "13          24      TheMoonCarl  0.477987          795\n",
       "33          13    EuclidAndOaks  0.477509          289\n",
       "20          27    TyDanielSmith  0.465061         2118\n",
       "37          38  intocryptoverse  0.447917           96\n",
       "19          37  girlgone_crypto  0.446736         3248\n",
       "5           29         aantonop  0.437864         3259\n",
       "32          11       Cryptosrus  0.426471           68\n",
       "39          22      StackingUSD  0.333333            3"
      ]
     },
     "execution_count": 55,
     "metadata": {},
     "output_type": "execute_result"
    }
   ],
   "source": [
    "user2score"
   ]
  }
 ],
 "metadata": {
  "kernelspec": {
   "display_name": "crypto",
   "language": "python",
   "name": "crypto"
  },
  "language_info": {
   "codemirror_mode": {
    "name": "ipython",
    "version": 3
   },
   "file_extension": ".py",
   "mimetype": "text/x-python",
   "name": "python",
   "nbconvert_exporter": "python",
   "pygments_lexer": "ipython3",
   "version": "3.7.6"
  }
 },
 "nbformat": 4,
 "nbformat_minor": 5
}
